{
 "cells": [
  {
   "cell_type": "markdown",
   "metadata": {},
   "source": [
    "# Million Songs Dataset\n",
    "Processing & cleaning\n",
    "\n",
    "1. [Artist Similarity](#0)\n",
    "\n",
    "2. [Artist MB Tag](#1)\n",
    "\n",
    "1. [Artist Terms](#Artist-Term)\n",
    "\n",
    "2. [Song Metadata](#3)\n",
    "\n",
    "1. [Track Analysis](#4)\n",
    "\n",
    "2. [Track Metadata](#5)\n",
    "\n",
    "1. [Aggregation](#6)\n",
    "    1. [Artist Terms & Artist MB Tags](#A)\n",
    "    2. [Track Metadata & Song Metadata](#B) \n",
    "    3. [Meta Merge](#C)   \n",
    "    4. [Main DF & Optimization](#D)\n",
    "1. [Downcasting](#7)\n",
    "\n",
    "2. [Pickling](#8)"
   ]
  },
  {
   "cell_type": "code",
   "execution_count": 1,
   "metadata": {
    "ExecuteTime": {
     "end_time": "2018-02-23T16:41:08.778210Z",
     "start_time": "2018-02-23T16:41:07.131535Z"
    }
   },
   "outputs": [
    {
     "name": "stdout",
     "output_type": "stream",
     "text": [
      "/Users/user/Documents/Metis/McNulty/MSD\r\n"
     ]
    }
   ],
   "source": [
    "import pandas as pd\n",
    "import os\n",
    "import sys\n",
    "import time\n",
    "import glob\n",
    "import datetime\n",
    "import sqlite3\n",
    "import numpy as np\n",
    "import json\n",
    "import pickle\n",
    "import re\n",
    "import matplotlib.pyplot as plt\n",
    "import seaborn as sns\n",
    "from pprint import pprint as pp\n",
    "from sqlalchemy import create_engine\n",
    "#cnx = create_engine('postgresql://user: @<ip>:<port>/user')\n",
    "\n",
    "\n",
    "%matplotlib inline\n",
    "sns.set()\n",
    "sns.set_palette('Set1')\n",
    "pd.options.display.max_rows = 1000\n",
    "pd.set_option('precision', 5)\n",
    "\n",
    "!pwd # /Users/user/Documents/Metis/McNulty/MSD"
   ]
  },
  {
   "cell_type": "markdown",
   "metadata": {},
   "source": [
    "### Data Load"
   ]
  },
  {
   "cell_type": "code",
   "execution_count": 2,
   "metadata": {
    "ExecuteTime": {
     "end_time": "2018-02-23T16:41:08.787896Z",
     "start_time": "2018-02-23T16:41:08.780255Z"
    }
   },
   "outputs": [
    {
     "data": {
      "text/plain": [
       "['CONVERTED_artist_similarity||similarity.csv',\n",
       " 'CONVERTED_artist_term||artist_mbtag.csv',\n",
       " 'CONVERTED_artist_term||artist_term.csv',\n",
       " 'CONVERTED_song_metadata.csv',\n",
       " 'CONVERTED_track_analysis.csv',\n",
       " 'CONVERTED_track_metadata||songs.csv',\n",
       " 'CONVERTED_tracks_per_year.csv',\n",
       " 'CONVERTED_unique_artists.csv',\n",
       " 'CONVERTED_unique_tracks.csv']"
      ]
     },
     "execution_count": 2,
     "metadata": {},
     "output_type": "execute_result"
    }
   ],
   "source": [
    "dfs_names = ['artist_similarity', 'artist_mbtag', 'artist_term', \n",
    "             'song_metadata_hdf5', 'track_analysis', 'track_metadata']\n",
    "\n",
    "csv_path='csv/converted_files/'\n",
    "csv_files = os.listdir(csv_path)\n",
    "\n",
    "csv_files"
   ]
  },
  {
   "cell_type": "code",
   "execution_count": 3,
   "metadata": {
    "ExecuteTime": {
     "end_time": "2018-02-23T16:41:24.405895Z",
     "start_time": "2018-02-23T16:41:08.789717Z"
    }
   },
   "outputs": [
    {
     "data": {
      "text/plain": [
       "[('artist_similarity', (2201916, 2)),\n",
       " ('artist_mbtag', (24777, 2)),\n",
       " ('artist_term', (1109381, 2)),\n",
       " ('song_metadata_hdf5', (1000000, 16)),\n",
       " ('track_analysis', (1000000, 14)),\n",
       " ('track_metadata', (1000000, 11))]"
      ]
     },
     "execution_count": 3,
     "metadata": {},
     "output_type": "execute_result"
    }
   ],
   "source": [
    "# Loading dataframes from csv files\n",
    "def csv_to_df(path, file):\n",
    "    if file != '.DS_Store':\n",
    "        return pd.read_csv(path + file)\n",
    "\n",
    "artist_similarity_df = csv_to_df(csv_path, csv_files[0])\n",
    "artist_mbtag_df = csv_to_df(csv_path, csv_files[1])\n",
    "artist_term_df = csv_to_df(csv_path, csv_files[2])\n",
    "song_metadata_hdf5_df = csv_to_df(csv_path, csv_files[3])\n",
    "track_analysis_df = csv_to_df(csv_path, csv_files[4])\n",
    "track_metadata_df = csv_to_df(csv_path, csv_files[5])\n",
    "\n",
    "dfs = \\\n",
    "[artist_similarity_df\n",
    ",artist_mbtag_df\n",
    ",artist_term_df\n",
    ",song_metadata_hdf5_df\n",
    ",track_analysis_df\n",
    ",track_metadata_df]\n",
    "\n",
    "# Dimensions of all dfs\n",
    "shapes = [i.shape for i in dfs]\n",
    "list(zip(dfs_names, shapes))"
   ]
  },
  {
   "cell_type": "code",
   "execution_count": 4,
   "metadata": {
    "ExecuteTime": {
     "end_time": "2018-02-23T16:41:24.413054Z",
     "start_time": "2018-02-23T16:41:24.408970Z"
    }
   },
   "outputs": [
    {
     "data": {
      "text/plain": [
       "[('artist_similarity', (2201916, 2)),\n",
       " ('artist_mbtag', (24777, 2)),\n",
       " ('artist_term', (1109381, 2)),\n",
       " ('song_metadata_hdf5', (1000000, 16)),\n",
       " ('track_analysis', (1000000, 14)),\n",
       " ('track_metadata', (1000000, 11))]"
      ]
     },
     "execution_count": 4,
     "metadata": {},
     "output_type": "execute_result"
    }
   ],
   "source": [
    "list(zip(dfs_names,shapes))"
   ]
  },
  {
   "cell_type": "markdown",
   "metadata": {},
   "source": [
    "### <a id=0></a> Artist Similarity"
   ]
  },
  {
   "cell_type": "code",
   "execution_count": 5,
   "metadata": {
    "ExecuteTime": {
     "end_time": "2018-02-23T16:41:24.424815Z",
     "start_time": "2018-02-23T16:41:24.414704Z"
    }
   },
   "outputs": [
    {
     "data": {
      "text/html": [
       "<div>\n",
       "<style scoped>\n",
       "    .dataframe tbody tr th:only-of-type {\n",
       "        vertical-align: middle;\n",
       "    }\n",
       "\n",
       "    .dataframe tbody tr th {\n",
       "        vertical-align: top;\n",
       "    }\n",
       "\n",
       "    .dataframe thead th {\n",
       "        text-align: right;\n",
       "    }\n",
       "</style>\n",
       "<table border=\"1\" class=\"dataframe\">\n",
       "  <thead>\n",
       "    <tr style=\"text-align: right;\">\n",
       "      <th></th>\n",
       "      <th>target</th>\n",
       "      <th>similar</th>\n",
       "    </tr>\n",
       "  </thead>\n",
       "  <tbody>\n",
       "    <tr>\n",
       "      <th>0</th>\n",
       "      <td>AR002UA1187B9A637D</td>\n",
       "      <td>ARQDOR81187FB3B06C</td>\n",
       "    </tr>\n",
       "    <tr>\n",
       "      <th>1</th>\n",
       "      <td>AR002UA1187B9A637D</td>\n",
       "      <td>AROHMXJ1187B989023</td>\n",
       "    </tr>\n",
       "  </tbody>\n",
       "</table>\n",
       "</div>"
      ],
      "text/plain": [
       "               target             similar\n",
       "0  AR002UA1187B9A637D  ARQDOR81187FB3B06C\n",
       "1  AR002UA1187B9A637D  AROHMXJ1187B989023"
      ]
     },
     "execution_count": 5,
     "metadata": {},
     "output_type": "execute_result"
    }
   ],
   "source": [
    "# Not used\n",
    "artist_similarity_df.head(2)"
   ]
  },
  {
   "cell_type": "markdown",
   "metadata": {},
   "source": [
    "### <a id=1></a> Artist MB Tag"
   ]
  },
  {
   "cell_type": "code",
   "execution_count": 6,
   "metadata": {
    "ExecuteTime": {
     "end_time": "2018-02-23T16:41:24.904918Z",
     "start_time": "2018-02-23T16:41:24.426492Z"
    },
    "scrolled": false
   },
   "outputs": [
    {
     "name": "stdout",
     "output_type": "stream",
     "text": [
      "<class 'pandas.core.frame.DataFrame'>\n",
      "RangeIndex: 24777 entries, 0 to 24776\n",
      "Data columns (total 2 columns):\n",
      "artist_id    24777 non-null object\n",
      "mbtag        24777 non-null object\n",
      "dtypes: object(2)\n",
      "memory usage: 387.2+ KB\n"
     ]
    },
    {
     "data": {
      "text/html": [
       "<div>\n",
       "<style scoped>\n",
       "    .dataframe tbody tr th:only-of-type {\n",
       "        vertical-align: middle;\n",
       "    }\n",
       "\n",
       "    .dataframe tbody tr th {\n",
       "        vertical-align: top;\n",
       "    }\n",
       "\n",
       "    .dataframe thead th {\n",
       "        text-align: right;\n",
       "    }\n",
       "</style>\n",
       "<table border=\"1\" class=\"dataframe\">\n",
       "  <thead>\n",
       "    <tr style=\"text-align: right;\">\n",
       "      <th></th>\n",
       "      <th>artist_id</th>\n",
       "      <th>tag_00s</th>\n",
       "      <th>tag_00s 10s</th>\n",
       "      <th>tag_1 7 186240 183 23558 41608 89158 111733 150833 169883</th>\n",
       "      <th>tag_10s</th>\n",
       "      <th>tag_1960s</th>\n",
       "      <th>tag_1970s</th>\n",
       "      <th>tag_1980s</th>\n",
       "      <th>tag_1989</th>\n",
       "      <th>tag_1990s</th>\n",
       "      <th>...</th>\n",
       "      <th>tag_éire</th>\n",
       "      <th>tag_ísland</th>\n",
       "      <th>tag_örebro</th>\n",
       "      <th>tag_л федоров</th>\n",
       "      <th>tag_ਪੰਜਾਬੀ</th>\n",
       "      <th>tag_ਭੰਗੜਾ</th>\n",
       "      <th>tag_ハロー プロジェクト</th>\n",
       "      <th>tag_姚姓</th>\n",
       "      <th>tag_日本</th>\n",
       "      <th>tag_香港歌手</th>\n",
       "    </tr>\n",
       "  </thead>\n",
       "  <tbody>\n",
       "    <tr>\n",
       "      <th>0</th>\n",
       "      <td>AR002UA1187B9A637D</td>\n",
       "      <td>0</td>\n",
       "      <td>0</td>\n",
       "      <td>0</td>\n",
       "      <td>0</td>\n",
       "      <td>0</td>\n",
       "      <td>0</td>\n",
       "      <td>0</td>\n",
       "      <td>0</td>\n",
       "      <td>0</td>\n",
       "      <td>...</td>\n",
       "      <td>0</td>\n",
       "      <td>0</td>\n",
       "      <td>0</td>\n",
       "      <td>0</td>\n",
       "      <td>0</td>\n",
       "      <td>0</td>\n",
       "      <td>0</td>\n",
       "      <td>0</td>\n",
       "      <td>0</td>\n",
       "      <td>0</td>\n",
       "    </tr>\n",
       "    <tr>\n",
       "      <th>1</th>\n",
       "      <td>AR002UA1187B9A637D</td>\n",
       "      <td>0</td>\n",
       "      <td>0</td>\n",
       "      <td>0</td>\n",
       "      <td>0</td>\n",
       "      <td>0</td>\n",
       "      <td>0</td>\n",
       "      <td>0</td>\n",
       "      <td>0</td>\n",
       "      <td>0</td>\n",
       "      <td>...</td>\n",
       "      <td>0</td>\n",
       "      <td>0</td>\n",
       "      <td>0</td>\n",
       "      <td>0</td>\n",
       "      <td>0</td>\n",
       "      <td>0</td>\n",
       "      <td>0</td>\n",
       "      <td>0</td>\n",
       "      <td>0</td>\n",
       "      <td>0</td>\n",
       "    </tr>\n",
       "    <tr>\n",
       "      <th>2</th>\n",
       "      <td>AR002UA1187B9A637D</td>\n",
       "      <td>0</td>\n",
       "      <td>0</td>\n",
       "      <td>0</td>\n",
       "      <td>0</td>\n",
       "      <td>0</td>\n",
       "      <td>0</td>\n",
       "      <td>0</td>\n",
       "      <td>0</td>\n",
       "      <td>0</td>\n",
       "      <td>...</td>\n",
       "      <td>0</td>\n",
       "      <td>0</td>\n",
       "      <td>0</td>\n",
       "      <td>0</td>\n",
       "      <td>0</td>\n",
       "      <td>0</td>\n",
       "      <td>0</td>\n",
       "      <td>0</td>\n",
       "      <td>0</td>\n",
       "      <td>0</td>\n",
       "    </tr>\n",
       "    <tr>\n",
       "      <th>3</th>\n",
       "      <td>AR006821187FB5192B</td>\n",
       "      <td>0</td>\n",
       "      <td>0</td>\n",
       "      <td>0</td>\n",
       "      <td>0</td>\n",
       "      <td>0</td>\n",
       "      <td>0</td>\n",
       "      <td>0</td>\n",
       "      <td>0</td>\n",
       "      <td>0</td>\n",
       "      <td>...</td>\n",
       "      <td>0</td>\n",
       "      <td>0</td>\n",
       "      <td>0</td>\n",
       "      <td>0</td>\n",
       "      <td>0</td>\n",
       "      <td>0</td>\n",
       "      <td>0</td>\n",
       "      <td>0</td>\n",
       "      <td>0</td>\n",
       "      <td>0</td>\n",
       "    </tr>\n",
       "    <tr>\n",
       "      <th>4</th>\n",
       "      <td>AR00A6H1187FB5402A</td>\n",
       "      <td>0</td>\n",
       "      <td>0</td>\n",
       "      <td>0</td>\n",
       "      <td>0</td>\n",
       "      <td>0</td>\n",
       "      <td>0</td>\n",
       "      <td>0</td>\n",
       "      <td>0</td>\n",
       "      <td>0</td>\n",
       "      <td>...</td>\n",
       "      <td>0</td>\n",
       "      <td>0</td>\n",
       "      <td>0</td>\n",
       "      <td>0</td>\n",
       "      <td>0</td>\n",
       "      <td>0</td>\n",
       "      <td>0</td>\n",
       "      <td>0</td>\n",
       "      <td>0</td>\n",
       "      <td>0</td>\n",
       "    </tr>\n",
       "  </tbody>\n",
       "</table>\n",
       "<p>5 rows × 2315 columns</p>\n",
       "</div>"
      ],
      "text/plain": [
       "            artist_id  tag_00s  tag_00s 10s  \\\n",
       "0  AR002UA1187B9A637D        0            0   \n",
       "1  AR002UA1187B9A637D        0            0   \n",
       "2  AR002UA1187B9A637D        0            0   \n",
       "3  AR006821187FB5192B        0            0   \n",
       "4  AR00A6H1187FB5402A        0            0   \n",
       "\n",
       "   tag_1 7 186240 183 23558 41608 89158 111733 150833 169883  tag_10s  \\\n",
       "0                                                  0                0   \n",
       "1                                                  0                0   \n",
       "2                                                  0                0   \n",
       "3                                                  0                0   \n",
       "4                                                  0                0   \n",
       "\n",
       "   tag_1960s  tag_1970s  tag_1980s  tag_1989  tag_1990s    ...     tag_éire  \\\n",
       "0          0          0          0         0          0    ...            0   \n",
       "1          0          0          0         0          0    ...            0   \n",
       "2          0          0          0         0          0    ...            0   \n",
       "3          0          0          0         0          0    ...            0   \n",
       "4          0          0          0         0          0    ...            0   \n",
       "\n",
       "   tag_ísland  tag_örebro  tag_л федоров  tag_ਪੰਜਾਬੀ  tag_ਭੰਗੜਾ  \\\n",
       "0           0           0              0           0          0   \n",
       "1           0           0              0           0          0   \n",
       "2           0           0              0           0          0   \n",
       "3           0           0              0           0          0   \n",
       "4           0           0              0           0          0   \n",
       "\n",
       "   tag_ハロー プロジェクト  tag_姚姓  tag_日本  tag_香港歌手  \n",
       "0               0       0       0         0  \n",
       "1               0       0       0         0  \n",
       "2               0       0       0         0  \n",
       "3               0       0       0         0  \n",
       "4               0       0       0         0  \n",
       "\n",
       "[5 rows x 2315 columns]"
      ]
     },
     "execution_count": 6,
     "metadata": {},
     "output_type": "execute_result"
    }
   ],
   "source": [
    "artist_mbtag_df.info()\n",
    "artist_mbtag_df = pd.get_dummies(artist_mbtag_df, columns=[\"mbtag\"], prefix=\"tag\")\n",
    "cols = [c for c in artist_mbtag_df.columns if len(c)<60]\n",
    "\n",
    "artist_mbtag_df=artist_mbtag_df[cols]\n",
    "artist_mbtag_df.head()"
   ]
  },
  {
   "cell_type": "markdown",
   "metadata": {},
   "source": [
    "### Artist Term"
   ]
  },
  {
   "cell_type": "code",
   "execution_count": 7,
   "metadata": {
    "ExecuteTime": {
     "end_time": "2018-02-23T16:41:25.035352Z",
     "start_time": "2018-02-23T16:41:24.906562Z"
    }
   },
   "outputs": [
    {
     "data": {
      "text/html": [
       "<div>\n",
       "<style scoped>\n",
       "    .dataframe tbody tr th:only-of-type {\n",
       "        vertical-align: middle;\n",
       "    }\n",
       "\n",
       "    .dataframe tbody tr th {\n",
       "        vertical-align: top;\n",
       "    }\n",
       "\n",
       "    .dataframe thead th {\n",
       "        text-align: right;\n",
       "    }\n",
       "</style>\n",
       "<table border=\"1\" class=\"dataframe\">\n",
       "  <thead>\n",
       "    <tr style=\"text-align: right;\">\n",
       "      <th></th>\n",
       "      <th>artist_id</th>\n",
       "      <th>term</th>\n",
       "    </tr>\n",
       "  </thead>\n",
       "  <tbody>\n",
       "    <tr>\n",
       "      <th>0</th>\n",
       "      <td>AR002UA1187B9A637D</td>\n",
       "      <td>garage rock</td>\n",
       "    </tr>\n",
       "    <tr>\n",
       "      <th>1</th>\n",
       "      <td>AR002UA1187B9A637D</td>\n",
       "      <td>country rock</td>\n",
       "    </tr>\n",
       "    <tr>\n",
       "      <th>2</th>\n",
       "      <td>AR002UA1187B9A637D</td>\n",
       "      <td>free jazz</td>\n",
       "    </tr>\n",
       "  </tbody>\n",
       "</table>\n",
       "</div>"
      ],
      "text/plain": [
       "            artist_id          term\n",
       "0  AR002UA1187B9A637D   garage rock\n",
       "1  AR002UA1187B9A637D  country rock\n",
       "2  AR002UA1187B9A637D     free jazz"
      ]
     },
     "execution_count": 7,
     "metadata": {},
     "output_type": "execute_result"
    }
   ],
   "source": [
    "artist_term_df.replace(to_replace=['emotional', 'discover'], value='other', inplace=True)\n",
    "\n",
    "artist_term_df.head(3)"
   ]
  },
  {
   "cell_type": "code",
   "execution_count": 8,
   "metadata": {
    "ExecuteTime": {
     "end_time": "2018-02-23T16:41:26.076527Z",
     "start_time": "2018-02-23T16:41:25.037028Z"
    }
   },
   "outputs": [
    {
     "name": "stdout",
     "output_type": "stream",
     "text": [
      "Unique groups of genres:  7642\n"
     ]
    }
   ],
   "source": [
    "# Explore unique genres\n",
    "print('Unique groups of genres: ', artist_term_df.groupby('term')['artist_id'].ngroups)\n",
    "# 7,642 genres to collapse\n",
    "\n",
    "genres_df = (artist_term_df.groupby('term')['artist_id']\n",
    "                           .nunique()\n",
    "                           .sort_values(ascending=False)\n",
    "                           .to_frame()\n",
    "                           .reset_index())"
   ]
  },
  {
   "cell_type": "code",
   "execution_count": 9,
   "metadata": {
    "ExecuteTime": {
     "end_time": "2018-02-23T16:41:26.080584Z",
     "start_time": "2018-02-23T16:41:26.078304Z"
    },
    "collapsed": true,
    "scrolled": true
   },
   "outputs": [],
   "source": [
    "# Swap rock out to explore anything %LIKE%\n",
    "#genres_df[genres_df.term.str.contains(\"rock\")]"
   ]
  },
  {
   "cell_type": "code",
   "execution_count": 10,
   "metadata": {
    "ExecuteTime": {
     "end_time": "2018-02-23T16:41:37.633202Z",
     "start_time": "2018-02-23T16:41:26.082230Z"
    }
   },
   "outputs": [
    {
     "name": "stderr",
     "output_type": "stream",
     "text": [
      "/Users/user/Desktop/anaconda/lib/python3.6/site-packages/ipykernel_launcher.py:2: UserWarning: This pattern has match groups. To actually get the groups, use str.extract.\n",
      "  \n"
     ]
    }
   ],
   "source": [
    "def term_grouping(terms, label):\n",
    "    artist_term_df.at[artist_term_df.loc[:,'term'].str.contains(r'({})'.format(terms)), 'term'] = '{}'.format(label)\n",
    "\n",
    "term_grouping(r'(country)', 'country')\n",
    "term_grouping(r'(blues|jazz|bossa)', 'jazz')\n",
    "term_grouping(r'(metal|screamo|death)', 'metal')\n",
    "term_grouping(r'(reggae)', 'reggae')\n",
    "term_grouping(r'(rap|freestyle|hop|r&b)', 'hiphop')\n",
    "term_grouping(r'(garage|punk|ska|grunge|emo)', 'punk')\n",
    "term_grouping(r'(pop)', 'pop')\n",
    "term_grouping(r'(electro|trance|techno|house|ebm|glitch|tronic|dance|step|dj|synth|drum and bass|club)', 'electronic')\n",
    "term_grouping(r'(rock)', 'rock')\n",
    "term_grouping(r'(indie|alternative)', 'alternative')\n",
    "term_grouping(r'(folk|grass)', 'folk')\n",
    "term_grouping(r'(funk|soul|disco)', 'funk')\n",
    "artist_term_df.replace(to_replace=['electric'], value='electronic', inplace=True)\n",
    "\n",
    "artist_term_df['term'][~artist_term_df.term.str.contains(\"country|jazz|metal|reggae|hiphop|punk|pop|electronic|rock|alternative|folk|funk\")] = 'other'\n"
   ]
  },
  {
   "cell_type": "code",
   "execution_count": 11,
   "metadata": {
    "ExecuteTime": {
     "end_time": "2018-02-23T16:41:38.816460Z",
     "start_time": "2018-02-23T16:41:37.634900Z"
    }
   },
   "outputs": [
    {
     "name": "stdout",
     "output_type": "stream",
     "text": [
      "Unique groups of genres:  13\n"
     ]
    },
    {
     "name": "stderr",
     "output_type": "stream",
     "text": [
      "/Users/user/Desktop/anaconda/lib/python3.6/site-packages/seaborn/categorical.py:1428: FutureWarning: remove_na is deprecated and is a private function. Do not use.\n",
      "  stat_data = remove_na(group_data)\n"
     ]
    },
    {
     "data": {
      "image/png": "[encoded data removed]",
      "text/plain": [
       "<matplotlib.figure.Figure at 0x10d8257b8>"
      ]
     },
     "metadata": {},
     "output_type": "display_data"
    }
   ],
   "source": [
    "# Explore new unique genres\n",
    "print('Unique groups of genres: ', artist_term_df.groupby('term')['artist_id'].ngroups)\n",
    "\n",
    "genres_df = (artist_term_df.groupby('term')['artist_id']\n",
    "                           .nunique()\n",
    "                           .sort_values(ascending=False)\n",
    "                           .to_frame()\n",
    "                           .reset_index())\n",
    "\n",
    "fig = plt.figure()\n",
    "fig.set_size_inches(14, 7)\n",
    "bar = sns.barplot(x='term', y='artist_id', data = genres_df,\n",
    "                  palette=sns.cubehelix_palette(13, start=1, rot=.55))\n",
    "bar.set(xlabel='Genres', ylabel='Count', title=\"Genre Count\");"
   ]
  },
  {
   "cell_type": "code",
   "execution_count": 12,
   "metadata": {
    "ExecuteTime": {
     "end_time": "2018-02-23T16:41:39.488179Z",
     "start_time": "2018-02-23T16:41:38.818185Z"
    }
   },
   "outputs": [
    {
     "data": {
      "text/html": [
       "<div>\n",
       "<style scoped>\n",
       "    .dataframe tbody tr th:only-of-type {\n",
       "        vertical-align: middle;\n",
       "    }\n",
       "\n",
       "    .dataframe tbody tr th {\n",
       "        vertical-align: top;\n",
       "    }\n",
       "\n",
       "    .dataframe thead th {\n",
       "        text-align: right;\n",
       "    }\n",
       "</style>\n",
       "<table border=\"1\" class=\"dataframe\">\n",
       "  <thead>\n",
       "    <tr style=\"text-align: right;\">\n",
       "      <th></th>\n",
       "      <th>artist_id</th>\n",
       "      <th>alternative</th>\n",
       "      <th>country</th>\n",
       "      <th>electronic</th>\n",
       "      <th>folk</th>\n",
       "      <th>funk</th>\n",
       "      <th>hiphop</th>\n",
       "      <th>jazz</th>\n",
       "      <th>metal</th>\n",
       "      <th>other</th>\n",
       "      <th>pop</th>\n",
       "      <th>punk</th>\n",
       "      <th>reggae</th>\n",
       "      <th>rock</th>\n",
       "    </tr>\n",
       "  </thead>\n",
       "  <tbody>\n",
       "    <tr>\n",
       "      <th>0</th>\n",
       "      <td>AR002UA1187B9A637D</td>\n",
       "      <td>0</td>\n",
       "      <td>1</td>\n",
       "      <td>1</td>\n",
       "      <td>0</td>\n",
       "      <td>0</td>\n",
       "      <td>0</td>\n",
       "      <td>1</td>\n",
       "      <td>0</td>\n",
       "      <td>1</td>\n",
       "      <td>1</td>\n",
       "      <td>1</td>\n",
       "      <td>1</td>\n",
       "      <td>1</td>\n",
       "    </tr>\n",
       "    <tr>\n",
       "      <th>1</th>\n",
       "      <td>AR003FB1187B994355</td>\n",
       "      <td>0</td>\n",
       "      <td>0</td>\n",
       "      <td>0</td>\n",
       "      <td>0</td>\n",
       "      <td>0</td>\n",
       "      <td>1</td>\n",
       "      <td>0</td>\n",
       "      <td>0</td>\n",
       "      <td>1</td>\n",
       "      <td>1</td>\n",
       "      <td>1</td>\n",
       "      <td>0</td>\n",
       "      <td>1</td>\n",
       "    </tr>\n",
       "    <tr>\n",
       "      <th>2</th>\n",
       "      <td>AR006821187FB5192B</td>\n",
       "      <td>0</td>\n",
       "      <td>1</td>\n",
       "      <td>1</td>\n",
       "      <td>1</td>\n",
       "      <td>0</td>\n",
       "      <td>0</td>\n",
       "      <td>0</td>\n",
       "      <td>1</td>\n",
       "      <td>1</td>\n",
       "      <td>1</td>\n",
       "      <td>0</td>\n",
       "      <td>1</td>\n",
       "      <td>1</td>\n",
       "    </tr>\n",
       "  </tbody>\n",
       "</table>\n",
       "</div>"
      ],
      "text/plain": [
       "            artist_id  alternative  country  electronic  folk  funk  hiphop  \\\n",
       "0  AR002UA1187B9A637D            0        1           1     0     0       0   \n",
       "1  AR003FB1187B994355            0        0           0     0     0       1   \n",
       "2  AR006821187FB5192B            0        1           1     1     0       0   \n",
       "\n",
       "   jazz  metal  other  pop  punk  reggae  rock  \n",
       "0     1      0      1    1     1       1     1  \n",
       "1     0      0      1    1     1       0     1  \n",
       "2     0      1      1    1     0       1     1  "
      ]
     },
     "execution_count": 12,
     "metadata": {},
     "output_type": "execute_result"
    }
   ],
   "source": [
    "# Creating genre labels and setting to binary for each artist\n",
    "artist_term_df = pd.get_dummies(artist_term_df, columns=[\"term\"], \n",
    "                                prefix_sep='', prefix='')\n",
    "artist_term_df = artist_term_df.groupby('artist_id').sum()\n",
    "artist_term_df = artist_term_df.applymap(lambda x: True if x>0 else False)\n",
    "artist_term_df = artist_term_df.astype('int8').reset_index()\n",
    "artist_term_df.head(3)"
   ]
  },
  {
   "cell_type": "markdown",
   "metadata": {},
   "source": [
    "### <a id=\"3\"></a> Song Metadata"
   ]
  },
  {
   "cell_type": "code",
   "execution_count": 13,
   "metadata": {
    "ExecuteTime": {
     "end_time": "2018-02-23T16:41:40.005660Z",
     "start_time": "2018-02-23T16:41:39.489988Z"
    },
    "scrolled": false
   },
   "outputs": [
    {
     "name": "stdout",
     "output_type": "stream",
     "text": [
      "<class 'pandas.core.frame.DataFrame'>\n",
      "RangeIndex: 1000000 entries, 0 to 999999\n",
      "Data columns (total 7 columns):\n",
      "song_id             1000000 non-null object\n",
      "artist_id           1000000 non-null object\n",
      "artist_latitude     1000000 non-null float64\n",
      "artist_longitude    1000000 non-null float64\n",
      "artist_mbid         937429 non-null object\n",
      "artist_name         1000000 non-null object\n",
      "song_hotttnesss     1000000 non-null float64\n",
      "dtypes: float64(3), object(4)\n",
      "memory usage: 53.4+ MB\n",
      "None\n"
     ]
    }
   ],
   "source": [
    "# Replace with other artist scores\n",
    "'''columns_temp = ['artist_familiarity', 'artist_hotttnesss']\n",
    "for col in columns_temp:\n",
    "    song_metadata_hdf5_df[f'{col}'].fillna(song_metadata_hdf5_df.groupby('artist_id')[f'{col}'] \\\n",
    "                        .transform('mean'), inplace=True)''';\n",
    "\n",
    "# Fill null values\n",
    "song_metadata_hdf5_df.artist_latitude.fillna(value=-9999, inplace=True)\n",
    "song_metadata_hdf5_df.artist_longitude.fillna(value=-9999, inplace=True)\n",
    "song_metadata_hdf5_df.song_hotttnesss.fillna(value=-9, inplace=True)\n",
    "\n",
    "song_metadata_hdf5_df.drop(labels=['artist_7digitalid', 'artist_playmeid',\n",
    "                                   'release_7digitalid','track_7digitalid',\n",
    "                                   'release', 'artist_location', 'title',\n",
    "                                   'artist_familiarity', 'artist_hotttnesss'], \n",
    "                           axis=1, inplace=True)\n",
    "\n",
    "print(song_metadata_hdf5_df.info())\n",
    "#song_metadata_hdf5_df.head(3)"
   ]
  },
  {
   "cell_type": "code",
   "execution_count": 14,
   "metadata": {
    "ExecuteTime": {
     "end_time": "2018-02-23T16:41:41.524596Z",
     "start_time": "2018-02-23T16:41:40.007390Z"
    }
   },
   "outputs": [
    {
     "data": {
      "text/plain": [
       "song_id             999056\n",
       "artist_id            44745\n",
       "artist_latitude       2664\n",
       "artist_longitude      2667\n",
       "artist_mbid          38729\n",
       "artist_name          72665\n",
       "song_hotttnesss     113198\n",
       "dtype: int64"
      ]
     },
     "execution_count": 14,
     "metadata": {},
     "output_type": "execute_result"
    }
   ],
   "source": [
    "song_metadata_hdf5_df.nunique()"
   ]
  },
  {
   "cell_type": "markdown",
   "metadata": {},
   "source": [
    "### <a id=4></a> Track Analysis"
   ]
  },
  {
   "cell_type": "code",
   "execution_count": 15,
   "metadata": {
    "ExecuteTime": {
     "end_time": "2018-02-23T16:41:42.549659Z",
     "start_time": "2018-02-23T16:41:41.526181Z"
    },
    "scrolled": false
   },
   "outputs": [
    {
     "name": "stdout",
     "output_type": "stream",
     "text": [
      "<class 'pandas.core.frame.DataFrame'>\n",
      "RangeIndex: 1000000 entries, 0 to 999999\n",
      "Data columns (total 11 columns):\n",
      "track_id                     1000000 non-null object\n",
      "duration                     1000000 non-null float64\n",
      "end_of_fade_in               1000000 non-null float64\n",
      "key                          1000000 non-null int64\n",
      "loudness                     1000000 non-null float64\n",
      "mode                         1000000 non-null int64\n",
      "mode_confidence              1000000 non-null float64\n",
      "start_of_fade_out            1000000 non-null float64\n",
      "tempo                        1000000 non-null float64\n",
      "time_signature               1000000 non-null int64\n",
      "time_signature_confidence    1000000 non-null float64\n",
      "dtypes: float64(7), int64(3), object(1)\n",
      "memory usage: 83.9+ MB\n",
      "None\n"
     ]
    },
    {
     "data": {
      "text/html": [
       "<div>\n",
       "<style scoped>\n",
       "    .dataframe tbody tr th:only-of-type {\n",
       "        vertical-align: middle;\n",
       "    }\n",
       "\n",
       "    .dataframe tbody tr th {\n",
       "        vertical-align: top;\n",
       "    }\n",
       "\n",
       "    .dataframe thead th {\n",
       "        text-align: right;\n",
       "    }\n",
       "</style>\n",
       "<table border=\"1\" class=\"dataframe\">\n",
       "  <thead>\n",
       "    <tr style=\"text-align: right;\">\n",
       "      <th></th>\n",
       "      <th>duration</th>\n",
       "      <th>end_of_fade_in</th>\n",
       "      <th>key</th>\n",
       "      <th>loudness</th>\n",
       "      <th>mode</th>\n",
       "      <th>mode_confidence</th>\n",
       "      <th>start_of_fade_out</th>\n",
       "      <th>tempo</th>\n",
       "      <th>time_signature</th>\n",
       "      <th>time_signature_confidence</th>\n",
       "    </tr>\n",
       "  </thead>\n",
       "  <tbody>\n",
       "    <tr>\n",
       "      <th>count</th>\n",
       "      <td>1000000.00000</td>\n",
       "      <td>1000000.00000</td>\n",
       "      <td>1000000.00000</td>\n",
       "      <td>1000000.00000</td>\n",
       "      <td>1000000.00000</td>\n",
       "      <td>1000000.00000</td>\n",
       "      <td>1000000.00000</td>\n",
       "      <td>1000000.00000</td>\n",
       "      <td>1000000.00000</td>\n",
       "      <td>1000000.00000</td>\n",
       "    </tr>\n",
       "    <tr>\n",
       "      <th>mean</th>\n",
       "      <td>249.50075</td>\n",
       "      <td>0.81985</td>\n",
       "      <td>5.32196</td>\n",
       "      <td>-10.12404</td>\n",
       "      <td>0.66641</td>\n",
       "      <td>0.47211</td>\n",
       "      <td>240.62502</td>\n",
       "      <td>123.88922</td>\n",
       "      <td>3.59395</td>\n",
       "      <td>0.51592</td>\n",
       "    </tr>\n",
       "    <tr>\n",
       "      <th>std</th>\n",
       "      <td>126.22964</td>\n",
       "      <td>3.30446</td>\n",
       "      <td>3.60160</td>\n",
       "      <td>5.19724</td>\n",
       "      <td>0.47150</td>\n",
       "      <td>0.19261</td>\n",
       "      <td>124.07992</td>\n",
       "      <td>35.05598</td>\n",
       "      <td>1.22193</td>\n",
       "      <td>0.37190</td>\n",
       "    </tr>\n",
       "    <tr>\n",
       "      <th>min</th>\n",
       "      <td>0.31302</td>\n",
       "      <td>0.00000</td>\n",
       "      <td>0.00000</td>\n",
       "      <td>-58.17800</td>\n",
       "      <td>0.00000</td>\n",
       "      <td>0.00000</td>\n",
       "      <td>0.31300</td>\n",
       "      <td>0.00000</td>\n",
       "      <td>0.00000</td>\n",
       "      <td>0.00000</td>\n",
       "    </tr>\n",
       "    <tr>\n",
       "      <th>25%</th>\n",
       "      <td>180.74077</td>\n",
       "      <td>0.00000</td>\n",
       "      <td>2.00000</td>\n",
       "      <td>-12.67200</td>\n",
       "      <td>0.00000</td>\n",
       "      <td>0.35600</td>\n",
       "      <td>173.18000</td>\n",
       "      <td>97.99500</td>\n",
       "      <td>3.00000</td>\n",
       "      <td>0.12500</td>\n",
       "    </tr>\n",
       "    <tr>\n",
       "      <th>50%</th>\n",
       "      <td>228.85832</td>\n",
       "      <td>0.19400</td>\n",
       "      <td>5.00000</td>\n",
       "      <td>-8.96300</td>\n",
       "      <td>1.00000</td>\n",
       "      <td>0.48300</td>\n",
       "      <td>219.75900</td>\n",
       "      <td>122.08600</td>\n",
       "      <td>4.00000</td>\n",
       "      <td>0.55700</td>\n",
       "    </tr>\n",
       "    <tr>\n",
       "      <th>75%</th>\n",
       "      <td>289.93261</td>\n",
       "      <td>0.43200</td>\n",
       "      <td>9.00000</td>\n",
       "      <td>-6.38600</td>\n",
       "      <td>1.00000</td>\n",
       "      <td>0.60200</td>\n",
       "      <td>279.71300</td>\n",
       "      <td>144.08900</td>\n",
       "      <td>4.00000</td>\n",
       "      <td>0.86900</td>\n",
       "    </tr>\n",
       "    <tr>\n",
       "      <th>max</th>\n",
       "      <td>3034.90567</td>\n",
       "      <td>1163.94100</td>\n",
       "      <td>11.00000</td>\n",
       "      <td>4.31800</td>\n",
       "      <td>1.00000</td>\n",
       "      <td>1.00000</td>\n",
       "      <td>3030.62200</td>\n",
       "      <td>302.30000</td>\n",
       "      <td>7.00000</td>\n",
       "      <td>1.00000</td>\n",
       "    </tr>\n",
       "  </tbody>\n",
       "</table>\n",
       "</div>"
      ],
      "text/plain": [
       "            duration  end_of_fade_in            key       loudness  \\\n",
       "count  1000000.00000   1000000.00000  1000000.00000  1000000.00000   \n",
       "mean       249.50075         0.81985        5.32196      -10.12404   \n",
       "std        126.22964         3.30446        3.60160        5.19724   \n",
       "min          0.31302         0.00000        0.00000      -58.17800   \n",
       "25%        180.74077         0.00000        2.00000      -12.67200   \n",
       "50%        228.85832         0.19400        5.00000       -8.96300   \n",
       "75%        289.93261         0.43200        9.00000       -6.38600   \n",
       "max       3034.90567      1163.94100       11.00000        4.31800   \n",
       "\n",
       "                mode  mode_confidence  start_of_fade_out          tempo  \\\n",
       "count  1000000.00000    1000000.00000      1000000.00000  1000000.00000   \n",
       "mean         0.66641          0.47211          240.62502      123.88922   \n",
       "std          0.47150          0.19261          124.07992       35.05598   \n",
       "min          0.00000          0.00000            0.31300        0.00000   \n",
       "25%          0.00000          0.35600          173.18000       97.99500   \n",
       "50%          1.00000          0.48300          219.75900      122.08600   \n",
       "75%          1.00000          0.60200          279.71300      144.08900   \n",
       "max          1.00000          1.00000         3030.62200      302.30000   \n",
       "\n",
       "       time_signature  time_signature_confidence  \n",
       "count   1000000.00000              1000000.00000  \n",
       "mean          3.59395                    0.51592  \n",
       "std           1.22193                    0.37190  \n",
       "min           0.00000                    0.00000  \n",
       "25%           3.00000                    0.12500  \n",
       "50%           4.00000                    0.55700  \n",
       "75%           4.00000                    0.86900  \n",
       "max           7.00000                    1.00000  "
      ]
     },
     "execution_count": 15,
     "metadata": {},
     "output_type": "execute_result"
    }
   ],
   "source": [
    "track_analysis_df.drop(labels=['danceability', 'energy', 'key_confidence'], \n",
    "                       axis=1, inplace=True)\n",
    "\n",
    "# Flawed feature\n",
    "'''def conf_nozeroes(x):\n",
    "    if x<0.1:\n",
    "        return x + 0.0001\n",
    "    \n",
    "track_analysis_df.key_confidence = track_analysis_df.key_confidence.map(conf_nozeroes)\n",
    "track_analysis_df['key_adj'] = track_analysis_df.key_confidence.apply(lambda x: np.log(1/x)) \n",
    "track_analysis_df['key_lw'] = track_analysis_df.key - track_analysis_df.key_adj\n",
    "track_analysis_df['key_up'] = track_analysis_df.key + track_analysis_df.key_adj'''\n",
    "\n",
    "print(track_analysis_df.info())\n",
    "track_analysis_df.describe()"
   ]
  },
  {
   "cell_type": "markdown",
   "metadata": {
    "ExecuteTime": {
     "end_time": "2018-02-16T01:19:30.281691Z",
     "start_time": "2018-02-16T01:19:30.027900Z"
    }
   },
   "source": [
    "### <a id=5></a> Track Metadata"
   ]
  },
  {
   "cell_type": "code",
   "execution_count": 16,
   "metadata": {
    "ExecuteTime": {
     "end_time": "2018-02-23T16:41:49.139613Z",
     "start_time": "2018-02-23T16:41:42.551257Z"
    }
   },
   "outputs": [
    {
     "name": "stdout",
     "output_type": "stream",
     "text": [
      "<class 'pandas.core.frame.DataFrame'>\n",
      "RangeIndex: 1000000 entries, 0 to 999999\n",
      "Data columns (total 11 columns):\n",
      "track_id              1000000 non-null object\n",
      "title                 999985 non-null object\n",
      "song_id               1000000 non-null object\n",
      "release               999995 non-null object\n",
      "artist_id             1000000 non-null object\n",
      "artist_mbid           937429 non-null object\n",
      "artist_name           1000000 non-null object\n",
      "duration              1000000 non-null float64\n",
      "artist_familiarity    1000000 non-null float64\n",
      "artist_hotttnesss     1000000 non-null float64\n",
      "year                  1000000 non-null int64\n",
      "dtypes: float64(3), int64(1), object(7)\n",
      "memory usage: 83.9+ MB\n",
      "None\n",
      "             track_id         title             song_id  \\\n",
      "0  TRMMMYQ128F932D901  Silent Night  SOQMMHC12AB0180CB8   \n",
      "\n",
      "                 release           artist_id  \\\n",
      "0  Monster Ballads X-Mas  ARYZTJS1187B98C555   \n",
      "\n",
      "                            artist_mbid       artist_name   duration  \\\n",
      "0  357ff05d-848a-44cf-b608-cb34b5701ae5  Faster Pussy cat  252.05506   \n",
      "\n",
      "   artist_familiarity  artist_hotttnesss  year  \n",
      "0             0.64982            0.39403  2003  \n"
     ]
    },
    {
     "data": {
      "text/html": [
       "<div>\n",
       "<style scoped>\n",
       "    .dataframe tbody tr th:only-of-type {\n",
       "        vertical-align: middle;\n",
       "    }\n",
       "\n",
       "    .dataframe tbody tr th {\n",
       "        vertical-align: top;\n",
       "    }\n",
       "\n",
       "    .dataframe thead th {\n",
       "        text-align: right;\n",
       "    }\n",
       "</style>\n",
       "<table border=\"1\" class=\"dataframe\">\n",
       "  <thead>\n",
       "    <tr style=\"text-align: right;\">\n",
       "      <th></th>\n",
       "      <th>track_id</th>\n",
       "      <th>title</th>\n",
       "      <th>song_id</th>\n",
       "      <th>release</th>\n",
       "      <th>artist_id</th>\n",
       "      <th>artist_mbid</th>\n",
       "      <th>artist_name</th>\n",
       "      <th>duration</th>\n",
       "      <th>artist_familiarity</th>\n",
       "      <th>artist_hotttnesss</th>\n",
       "      <th>year</th>\n",
       "    </tr>\n",
       "  </thead>\n",
       "  <tbody>\n",
       "    <tr>\n",
       "      <th>count</th>\n",
       "      <td>1000000</td>\n",
       "      <td>999985</td>\n",
       "      <td>1000000</td>\n",
       "      <td>999995</td>\n",
       "      <td>1000000</td>\n",
       "      <td>937429</td>\n",
       "      <td>1000000</td>\n",
       "      <td>1000000.00000</td>\n",
       "      <td>1000000.00000</td>\n",
       "      <td>1000000.00000</td>\n",
       "      <td>1000000.00000</td>\n",
       "    </tr>\n",
       "    <tr>\n",
       "      <th>unique</th>\n",
       "      <td>1000000</td>\n",
       "      <td>702428</td>\n",
       "      <td>999056</td>\n",
       "      <td>149288</td>\n",
       "      <td>44745</td>\n",
       "      <td>38729</td>\n",
       "      <td>72665</td>\n",
       "      <td>NaN</td>\n",
       "      <td>NaN</td>\n",
       "      <td>NaN</td>\n",
       "      <td>NaN</td>\n",
       "    </tr>\n",
       "    <tr>\n",
       "      <th>top</th>\n",
       "      <td>TRKJGJZ128F933D896</td>\n",
       "      <td>Intro</td>\n",
       "      <td>SOLNCTS12A8C1405EF</td>\n",
       "      <td>Greatest Hits</td>\n",
       "      <td>AR6681Y1187FB39B02</td>\n",
       "      <td>1c7b3786-b99a-40ab-81e4-f3056da19e13</td>\n",
       "      <td>Michael Jackson</td>\n",
       "      <td>NaN</td>\n",
       "      <td>NaN</td>\n",
       "      <td>NaN</td>\n",
       "      <td>NaN</td>\n",
       "    </tr>\n",
       "    <tr>\n",
       "      <th>freq</th>\n",
       "      <td>1</td>\n",
       "      <td>1510</td>\n",
       "      <td>3</td>\n",
       "      <td>2014</td>\n",
       "      <td>208</td>\n",
       "      <td>208</td>\n",
       "      <td>194</td>\n",
       "      <td>NaN</td>\n",
       "      <td>NaN</td>\n",
       "      <td>NaN</td>\n",
       "      <td>NaN</td>\n",
       "    </tr>\n",
       "    <tr>\n",
       "      <th>mean</th>\n",
       "      <td>NaN</td>\n",
       "      <td>NaN</td>\n",
       "      <td>NaN</td>\n",
       "      <td>NaN</td>\n",
       "      <td>NaN</td>\n",
       "      <td>NaN</td>\n",
       "      <td>NaN</td>\n",
       "      <td>249.50075</td>\n",
       "      <td>0.55692</td>\n",
       "      <td>0.37980</td>\n",
       "      <td>1030.32565</td>\n",
       "    </tr>\n",
       "    <tr>\n",
       "      <th>std</th>\n",
       "      <td>NaN</td>\n",
       "      <td>NaN</td>\n",
       "      <td>NaN</td>\n",
       "      <td>NaN</td>\n",
       "      <td>NaN</td>\n",
       "      <td>NaN</td>\n",
       "      <td>NaN</td>\n",
       "      <td>126.22964</td>\n",
       "      <td>0.14021</td>\n",
       "      <td>0.12605</td>\n",
       "      <td>998.74500</td>\n",
       "    </tr>\n",
       "    <tr>\n",
       "      <th>min</th>\n",
       "      <td>NaN</td>\n",
       "      <td>NaN</td>\n",
       "      <td>NaN</td>\n",
       "      <td>NaN</td>\n",
       "      <td>NaN</td>\n",
       "      <td>NaN</td>\n",
       "      <td>NaN</td>\n",
       "      <td>0.31302</td>\n",
       "      <td>-1.00000</td>\n",
       "      <td>-1.00000</td>\n",
       "      <td>0.00000</td>\n",
       "    </tr>\n",
       "    <tr>\n",
       "      <th>25%</th>\n",
       "      <td>NaN</td>\n",
       "      <td>NaN</td>\n",
       "      <td>NaN</td>\n",
       "      <td>NaN</td>\n",
       "      <td>NaN</td>\n",
       "      <td>NaN</td>\n",
       "      <td>NaN</td>\n",
       "      <td>180.74077</td>\n",
       "      <td>0.47822</td>\n",
       "      <td>0.33632</td>\n",
       "      <td>0.00000</td>\n",
       "    </tr>\n",
       "    <tr>\n",
       "      <th>50%</th>\n",
       "      <td>NaN</td>\n",
       "      <td>NaN</td>\n",
       "      <td>NaN</td>\n",
       "      <td>NaN</td>\n",
       "      <td>NaN</td>\n",
       "      <td>NaN</td>\n",
       "      <td>NaN</td>\n",
       "      <td>228.85832</td>\n",
       "      <td>0.55888</td>\n",
       "      <td>0.38619</td>\n",
       "      <td>1969.00000</td>\n",
       "    </tr>\n",
       "    <tr>\n",
       "      <th>75%</th>\n",
       "      <td>NaN</td>\n",
       "      <td>NaN</td>\n",
       "      <td>NaN</td>\n",
       "      <td>NaN</td>\n",
       "      <td>NaN</td>\n",
       "      <td>NaN</td>\n",
       "      <td>NaN</td>\n",
       "      <td>289.93261</td>\n",
       "      <td>0.64139</td>\n",
       "      <td>0.44407</td>\n",
       "      <td>2002.00000</td>\n",
       "    </tr>\n",
       "    <tr>\n",
       "      <th>max</th>\n",
       "      <td>NaN</td>\n",
       "      <td>NaN</td>\n",
       "      <td>NaN</td>\n",
       "      <td>NaN</td>\n",
       "      <td>NaN</td>\n",
       "      <td>NaN</td>\n",
       "      <td>NaN</td>\n",
       "      <td>3034.90567</td>\n",
       "      <td>1.00000</td>\n",
       "      <td>1.08250</td>\n",
       "      <td>2011.00000</td>\n",
       "    </tr>\n",
       "  </tbody>\n",
       "</table>\n",
       "</div>"
      ],
      "text/plain": [
       "                  track_id   title             song_id        release  \\\n",
       "count              1000000  999985             1000000         999995   \n",
       "unique             1000000  702428              999056         149288   \n",
       "top     TRKJGJZ128F933D896   Intro  SOLNCTS12A8C1405EF  Greatest Hits   \n",
       "freq                     1    1510                   3           2014   \n",
       "mean                   NaN     NaN                 NaN            NaN   \n",
       "std                    NaN     NaN                 NaN            NaN   \n",
       "min                    NaN     NaN                 NaN            NaN   \n",
       "25%                    NaN     NaN                 NaN            NaN   \n",
       "50%                    NaN     NaN                 NaN            NaN   \n",
       "75%                    NaN     NaN                 NaN            NaN   \n",
       "max                    NaN     NaN                 NaN            NaN   \n",
       "\n",
       "                 artist_id                           artist_mbid  \\\n",
       "count              1000000                                937429   \n",
       "unique               44745                                 38729   \n",
       "top     AR6681Y1187FB39B02  1c7b3786-b99a-40ab-81e4-f3056da19e13   \n",
       "freq                   208                                   208   \n",
       "mean                   NaN                                   NaN   \n",
       "std                    NaN                                   NaN   \n",
       "min                    NaN                                   NaN   \n",
       "25%                    NaN                                   NaN   \n",
       "50%                    NaN                                   NaN   \n",
       "75%                    NaN                                   NaN   \n",
       "max                    NaN                                   NaN   \n",
       "\n",
       "            artist_name       duration  artist_familiarity  artist_hotttnesss  \\\n",
       "count           1000000  1000000.00000       1000000.00000      1000000.00000   \n",
       "unique            72665            NaN                 NaN                NaN   \n",
       "top     Michael Jackson            NaN                 NaN                NaN   \n",
       "freq                194            NaN                 NaN                NaN   \n",
       "mean                NaN      249.50075             0.55692            0.37980   \n",
       "std                 NaN      126.22964             0.14021            0.12605   \n",
       "min                 NaN        0.31302            -1.00000           -1.00000   \n",
       "25%                 NaN      180.74077             0.47822            0.33632   \n",
       "50%                 NaN      228.85832             0.55888            0.38619   \n",
       "75%                 NaN      289.93261             0.64139            0.44407   \n",
       "max                 NaN     3034.90567             1.00000            1.08250   \n",
       "\n",
       "                 year  \n",
       "count   1000000.00000  \n",
       "unique            NaN  \n",
       "top               NaN  \n",
       "freq              NaN  \n",
       "mean       1030.32565  \n",
       "std         998.74500  \n",
       "min           0.00000  \n",
       "25%           0.00000  \n",
       "50%        1969.00000  \n",
       "75%        2002.00000  \n",
       "max        2011.00000  "
      ]
     },
     "execution_count": 16,
     "metadata": {},
     "output_type": "execute_result"
    }
   ],
   "source": [
    "print(track_metadata_df.info())\n",
    "print(track_metadata_df.head(1))\n",
    "track_metadata_df.describe(include='all')"
   ]
  },
  {
   "cell_type": "markdown",
   "metadata": {
    "ExecuteTime": {
     "end_time": "2018-02-14T05:41:45.847555Z",
     "start_time": "2018-02-14T05:41:45.699261Z"
    }
   },
   "source": [
    "# <a id=6></a>Aggregation"
   ]
  },
  {
   "cell_type": "markdown",
   "metadata": {},
   "source": [
    "### <a id=\"A\"></a>Artist Term & Artist MB Tags"
   ]
  },
  {
   "cell_type": "code",
   "execution_count": 17,
   "metadata": {
    "ExecuteTime": {
     "end_time": "2018-02-23T16:41:57.470404Z",
     "start_time": "2018-02-23T16:41:49.141805Z"
    }
   },
   "outputs": [
    {
     "name": "stdout",
     "output_type": "stream",
     "text": [
      "Row duplicates: 15939\n"
     ]
    },
    {
     "data": {
      "text/html": [
       "<div>\n",
       "<style scoped>\n",
       "    .dataframe tbody tr th:only-of-type {\n",
       "        vertical-align: middle;\n",
       "    }\n",
       "\n",
       "    .dataframe tbody tr th {\n",
       "        vertical-align: top;\n",
       "    }\n",
       "\n",
       "    .dataframe thead th {\n",
       "        text-align: right;\n",
       "    }\n",
       "</style>\n",
       "<table border=\"1\" class=\"dataframe\">\n",
       "  <thead>\n",
       "    <tr style=\"text-align: right;\">\n",
       "      <th></th>\n",
       "      <th>artist_id</th>\n",
       "      <th>alternative</th>\n",
       "      <th>country</th>\n",
       "      <th>electronic</th>\n",
       "      <th>folk</th>\n",
       "      <th>funk</th>\n",
       "      <th>hiphop</th>\n",
       "      <th>jazz</th>\n",
       "      <th>metal</th>\n",
       "      <th>other</th>\n",
       "      <th>...</th>\n",
       "      <th>tag_éire</th>\n",
       "      <th>tag_ísland</th>\n",
       "      <th>tag_örebro</th>\n",
       "      <th>tag_л федоров</th>\n",
       "      <th>tag_ਪੰਜਾਬੀ</th>\n",
       "      <th>tag_ਭੰਗੜਾ</th>\n",
       "      <th>tag_ハロー プロジェクト</th>\n",
       "      <th>tag_姚姓</th>\n",
       "      <th>tag_日本</th>\n",
       "      <th>tag_香港歌手</th>\n",
       "    </tr>\n",
       "  </thead>\n",
       "  <tbody>\n",
       "    <tr>\n",
       "      <th>59876</th>\n",
       "      <td>ARZZYRB1187B99D0B6</td>\n",
       "      <td>0</td>\n",
       "      <td>0</td>\n",
       "      <td>1</td>\n",
       "      <td>0</td>\n",
       "      <td>1</td>\n",
       "      <td>0</td>\n",
       "      <td>1</td>\n",
       "      <td>0</td>\n",
       "      <td>1</td>\n",
       "      <td>...</td>\n",
       "      <td>0</td>\n",
       "      <td>0</td>\n",
       "      <td>0</td>\n",
       "      <td>0</td>\n",
       "      <td>0</td>\n",
       "      <td>0</td>\n",
       "      <td>0</td>\n",
       "      <td>0</td>\n",
       "      <td>0</td>\n",
       "      <td>0</td>\n",
       "    </tr>\n",
       "    <tr>\n",
       "      <th>59875</th>\n",
       "      <td>ARZZYRB1187B99D0B6</td>\n",
       "      <td>0</td>\n",
       "      <td>0</td>\n",
       "      <td>1</td>\n",
       "      <td>0</td>\n",
       "      <td>1</td>\n",
       "      <td>0</td>\n",
       "      <td>1</td>\n",
       "      <td>0</td>\n",
       "      <td>1</td>\n",
       "      <td>...</td>\n",
       "      <td>0</td>\n",
       "      <td>0</td>\n",
       "      <td>0</td>\n",
       "      <td>0</td>\n",
       "      <td>0</td>\n",
       "      <td>0</td>\n",
       "      <td>0</td>\n",
       "      <td>0</td>\n",
       "      <td>0</td>\n",
       "      <td>0</td>\n",
       "    </tr>\n",
       "    <tr>\n",
       "      <th>59855</th>\n",
       "      <td>ARZZMWO1187B9AFB36</td>\n",
       "      <td>0</td>\n",
       "      <td>0</td>\n",
       "      <td>1</td>\n",
       "      <td>0</td>\n",
       "      <td>0</td>\n",
       "      <td>1</td>\n",
       "      <td>0</td>\n",
       "      <td>1</td>\n",
       "      <td>1</td>\n",
       "      <td>...</td>\n",
       "      <td>0</td>\n",
       "      <td>0</td>\n",
       "      <td>0</td>\n",
       "      <td>0</td>\n",
       "      <td>0</td>\n",
       "      <td>0</td>\n",
       "      <td>0</td>\n",
       "      <td>0</td>\n",
       "      <td>0</td>\n",
       "      <td>0</td>\n",
       "    </tr>\n",
       "    <tr>\n",
       "      <th>59856</th>\n",
       "      <td>ARZZMWO1187B9AFB36</td>\n",
       "      <td>0</td>\n",
       "      <td>0</td>\n",
       "      <td>1</td>\n",
       "      <td>0</td>\n",
       "      <td>0</td>\n",
       "      <td>1</td>\n",
       "      <td>0</td>\n",
       "      <td>1</td>\n",
       "      <td>1</td>\n",
       "      <td>...</td>\n",
       "      <td>0</td>\n",
       "      <td>0</td>\n",
       "      <td>0</td>\n",
       "      <td>0</td>\n",
       "      <td>0</td>\n",
       "      <td>0</td>\n",
       "      <td>0</td>\n",
       "      <td>0</td>\n",
       "      <td>0</td>\n",
       "      <td>0</td>\n",
       "    </tr>\n",
       "    <tr>\n",
       "      <th>59854</th>\n",
       "      <td>ARZZMWO1187B9AFB36</td>\n",
       "      <td>0</td>\n",
       "      <td>0</td>\n",
       "      <td>1</td>\n",
       "      <td>0</td>\n",
       "      <td>0</td>\n",
       "      <td>1</td>\n",
       "      <td>0</td>\n",
       "      <td>1</td>\n",
       "      <td>1</td>\n",
       "      <td>...</td>\n",
       "      <td>0</td>\n",
       "      <td>0</td>\n",
       "      <td>0</td>\n",
       "      <td>0</td>\n",
       "      <td>0</td>\n",
       "      <td>0</td>\n",
       "      <td>0</td>\n",
       "      <td>0</td>\n",
       "      <td>0</td>\n",
       "      <td>0</td>\n",
       "    </tr>\n",
       "    <tr>\n",
       "      <th>59853</th>\n",
       "      <td>ARZZMWO1187B9AFB36</td>\n",
       "      <td>0</td>\n",
       "      <td>0</td>\n",
       "      <td>1</td>\n",
       "      <td>0</td>\n",
       "      <td>0</td>\n",
       "      <td>1</td>\n",
       "      <td>0</td>\n",
       "      <td>1</td>\n",
       "      <td>1</td>\n",
       "      <td>...</td>\n",
       "      <td>0</td>\n",
       "      <td>0</td>\n",
       "      <td>0</td>\n",
       "      <td>0</td>\n",
       "      <td>0</td>\n",
       "      <td>0</td>\n",
       "      <td>0</td>\n",
       "      <td>0</td>\n",
       "      <td>0</td>\n",
       "      <td>0</td>\n",
       "    </tr>\n",
       "    <tr>\n",
       "      <th>59837</th>\n",
       "      <td>ARZZ8O71187FB45FA4</td>\n",
       "      <td>1</td>\n",
       "      <td>0</td>\n",
       "      <td>1</td>\n",
       "      <td>0</td>\n",
       "      <td>0</td>\n",
       "      <td>0</td>\n",
       "      <td>0</td>\n",
       "      <td>0</td>\n",
       "      <td>1</td>\n",
       "      <td>...</td>\n",
       "      <td>0</td>\n",
       "      <td>0</td>\n",
       "      <td>0</td>\n",
       "      <td>0</td>\n",
       "      <td>0</td>\n",
       "      <td>0</td>\n",
       "      <td>0</td>\n",
       "      <td>0</td>\n",
       "      <td>0</td>\n",
       "      <td>0</td>\n",
       "    </tr>\n",
       "    <tr>\n",
       "      <th>59836</th>\n",
       "      <td>ARZZ8O71187FB45FA4</td>\n",
       "      <td>1</td>\n",
       "      <td>0</td>\n",
       "      <td>1</td>\n",
       "      <td>0</td>\n",
       "      <td>0</td>\n",
       "      <td>0</td>\n",
       "      <td>0</td>\n",
       "      <td>0</td>\n",
       "      <td>1</td>\n",
       "      <td>...</td>\n",
       "      <td>0</td>\n",
       "      <td>0</td>\n",
       "      <td>0</td>\n",
       "      <td>0</td>\n",
       "      <td>0</td>\n",
       "      <td>0</td>\n",
       "      <td>0</td>\n",
       "      <td>0</td>\n",
       "      <td>0</td>\n",
       "      <td>0</td>\n",
       "    </tr>\n",
       "  </tbody>\n",
       "</table>\n",
       "<p>8 rows × 2328 columns</p>\n",
       "</div>"
      ],
      "text/plain": [
       "                artist_id  alternative  country  electronic  folk  funk  \\\n",
       "59876  ARZZYRB1187B99D0B6            0        0           1     0     1   \n",
       "59875  ARZZYRB1187B99D0B6            0        0           1     0     1   \n",
       "59855  ARZZMWO1187B9AFB36            0        0           1     0     0   \n",
       "59856  ARZZMWO1187B9AFB36            0        0           1     0     0   \n",
       "59854  ARZZMWO1187B9AFB36            0        0           1     0     0   \n",
       "59853  ARZZMWO1187B9AFB36            0        0           1     0     0   \n",
       "59837  ARZZ8O71187FB45FA4            1        0           1     0     0   \n",
       "59836  ARZZ8O71187FB45FA4            1        0           1     0     0   \n",
       "\n",
       "       hiphop  jazz  metal  other    ...     tag_éire  tag_ísland  tag_örebro  \\\n",
       "59876       0     1      0      1    ...            0           0           0   \n",
       "59875       0     1      0      1    ...            0           0           0   \n",
       "59855       1     0      1      1    ...            0           0           0   \n",
       "59856       1     0      1      1    ...            0           0           0   \n",
       "59854       1     0      1      1    ...            0           0           0   \n",
       "59853       1     0      1      1    ...            0           0           0   \n",
       "59837       0     0      0      1    ...            0           0           0   \n",
       "59836       0     0      0      1    ...            0           0           0   \n",
       "\n",
       "       tag_л федоров  tag_ਪੰਜਾਬੀ  tag_ਭੰਗੜਾ  tag_ハロー プロジェクト  tag_姚姓  tag_日本  \\\n",
       "59876              0           0          0               0       0       0   \n",
       "59875              0           0          0               0       0       0   \n",
       "59855              0           0          0               0       0       0   \n",
       "59856              0           0          0               0       0       0   \n",
       "59854              0           0          0               0       0       0   \n",
       "59853              0           0          0               0       0       0   \n",
       "59837              0           0          0               0       0       0   \n",
       "59836              0           0          0               0       0       0   \n",
       "\n",
       "       tag_香港歌手  \n",
       "59876         0  \n",
       "59875         0  \n",
       "59855         0  \n",
       "59856         0  \n",
       "59854         0  \n",
       "59853         0  \n",
       "59837         0  \n",
       "59836         0  \n",
       "\n",
       "[8 rows x 2328 columns]"
      ]
     },
     "execution_count": 17,
     "metadata": {},
     "output_type": "execute_result"
    }
   ],
   "source": [
    "# Joining artist term and musicbrainz tags\n",
    "termtag_df = pd.merge(artist_term_df, artist_mbtag_df, on='artist_id', how='outer', suffixes=('_1', '_2'))\n",
    "termtag_df.set_index('artist_id', inplace=True)\n",
    "termtag_df.fillna(value=0, inplace=True)\n",
    "\n",
    "# Remove any zero sum rows\n",
    "termtag_df = termtag_df.astype('int8')\n",
    "mask = termtag_df.sum(axis=1) == 0\n",
    "termtag_df = termtag_df[~mask]\n",
    "termtag_df.reset_index(inplace=True)\n",
    "\n",
    "# Count duplicates\n",
    "print(\"Row duplicates:\", termtag_df.duplicated(subset=['artist_id']).sum())\n",
    "\n",
    "# Explore duplicates\n",
    "termtag_df.sort_values(['artist_id'], inplace=True, ascending=False)\n",
    "termtag_df.loc[termtag_df.duplicated(subset=['artist_id'], keep=False)].head(8)"
   ]
  },
  {
   "cell_type": "code",
   "execution_count": 18,
   "metadata": {
    "ExecuteTime": {
     "end_time": "2018-02-23T16:42:27.594321Z",
     "start_time": "2018-02-23T16:41:57.471970Z"
    }
   },
   "outputs": [
    {
     "data": {
      "text/html": [
       "<div>\n",
       "<style scoped>\n",
       "    .dataframe tbody tr th:only-of-type {\n",
       "        vertical-align: middle;\n",
       "    }\n",
       "\n",
       "    .dataframe tbody tr th {\n",
       "        vertical-align: top;\n",
       "    }\n",
       "\n",
       "    .dataframe thead th {\n",
       "        text-align: right;\n",
       "    }\n",
       "</style>\n",
       "<table border=\"1\" class=\"dataframe\">\n",
       "  <thead>\n",
       "    <tr style=\"text-align: right;\">\n",
       "      <th></th>\n",
       "      <th>alternative</th>\n",
       "      <th>country</th>\n",
       "      <th>electronic</th>\n",
       "      <th>folk</th>\n",
       "      <th>funk</th>\n",
       "      <th>hiphop</th>\n",
       "      <th>jazz</th>\n",
       "      <th>metal</th>\n",
       "      <th>other</th>\n",
       "      <th>pop</th>\n",
       "      <th>...</th>\n",
       "      <th>tag_éire</th>\n",
       "      <th>tag_ísland</th>\n",
       "      <th>tag_örebro</th>\n",
       "      <th>tag_л федоров</th>\n",
       "      <th>tag_ਪੰਜਾਬੀ</th>\n",
       "      <th>tag_ਭੰਗੜਾ</th>\n",
       "      <th>tag_ハロー プロジェクト</th>\n",
       "      <th>tag_姚姓</th>\n",
       "      <th>tag_日本</th>\n",
       "      <th>tag_香港歌手</th>\n",
       "    </tr>\n",
       "    <tr>\n",
       "      <th>artist_id</th>\n",
       "      <th></th>\n",
       "      <th></th>\n",
       "      <th></th>\n",
       "      <th></th>\n",
       "      <th></th>\n",
       "      <th></th>\n",
       "      <th></th>\n",
       "      <th></th>\n",
       "      <th></th>\n",
       "      <th></th>\n",
       "      <th></th>\n",
       "      <th></th>\n",
       "      <th></th>\n",
       "      <th></th>\n",
       "      <th></th>\n",
       "      <th></th>\n",
       "      <th></th>\n",
       "      <th></th>\n",
       "      <th></th>\n",
       "      <th></th>\n",
       "      <th></th>\n",
       "    </tr>\n",
       "  </thead>\n",
       "  <tbody>\n",
       "    <tr>\n",
       "      <th>AR002UA1187B9A637D</th>\n",
       "      <td>0</td>\n",
       "      <td>1</td>\n",
       "      <td>1</td>\n",
       "      <td>0</td>\n",
       "      <td>0</td>\n",
       "      <td>0</td>\n",
       "      <td>1</td>\n",
       "      <td>0</td>\n",
       "      <td>1</td>\n",
       "      <td>1</td>\n",
       "      <td>...</td>\n",
       "      <td>0</td>\n",
       "      <td>0</td>\n",
       "      <td>0</td>\n",
       "      <td>0</td>\n",
       "      <td>0</td>\n",
       "      <td>0</td>\n",
       "      <td>0</td>\n",
       "      <td>0</td>\n",
       "      <td>0</td>\n",
       "      <td>0</td>\n",
       "    </tr>\n",
       "    <tr>\n",
       "      <th>AR003FB1187B994355</th>\n",
       "      <td>0</td>\n",
       "      <td>0</td>\n",
       "      <td>0</td>\n",
       "      <td>0</td>\n",
       "      <td>0</td>\n",
       "      <td>1</td>\n",
       "      <td>0</td>\n",
       "      <td>0</td>\n",
       "      <td>1</td>\n",
       "      <td>1</td>\n",
       "      <td>...</td>\n",
       "      <td>0</td>\n",
       "      <td>0</td>\n",
       "      <td>0</td>\n",
       "      <td>0</td>\n",
       "      <td>0</td>\n",
       "      <td>0</td>\n",
       "      <td>0</td>\n",
       "      <td>0</td>\n",
       "      <td>0</td>\n",
       "      <td>0</td>\n",
       "    </tr>\n",
       "  </tbody>\n",
       "</table>\n",
       "<p>2 rows × 2327 columns</p>\n",
       "</div>"
      ],
      "text/plain": [
       "                    alternative  country  electronic  folk  funk  hiphop  \\\n",
       "artist_id                                                                  \n",
       "AR002UA1187B9A637D            0        1           1     0     0       0   \n",
       "AR003FB1187B994355            0        0           0     0     0       1   \n",
       "\n",
       "                    jazz  metal  other  pop    ...     tag_éire  tag_ísland  \\\n",
       "artist_id                                      ...                            \n",
       "AR002UA1187B9A637D     1      0      1    1    ...            0           0   \n",
       "AR003FB1187B994355     0      0      1    1    ...            0           0   \n",
       "\n",
       "                    tag_örebro  tag_л федоров  tag_ਪੰਜਾਬੀ  tag_ਭੰਗੜਾ  \\\n",
       "artist_id                                                              \n",
       "AR002UA1187B9A637D           0              0           0          0   \n",
       "AR003FB1187B994355           0              0           0          0   \n",
       "\n",
       "                    tag_ハロー プロジェクト  tag_姚姓  tag_日本  tag_香港歌手  \n",
       "artist_id                                                     \n",
       "AR002UA1187B9A637D               0       0       0         0  \n",
       "AR003FB1187B994355               0       0       0         0  \n",
       "\n",
       "[2 rows x 2327 columns]"
      ]
     },
     "execution_count": 18,
     "metadata": {},
     "output_type": "execute_result"
    }
   ],
   "source": [
    "termtag_df = termtag_df.groupby('artist_id') \\\n",
    "                       .sum() \\\n",
    "                       .applymap(lambda x: True if x>0 else False) \\\n",
    "                       .astype('int8') \n",
    "termtag_df.head(2)"
   ]
  },
  {
   "cell_type": "code",
   "execution_count": 19,
   "metadata": {
    "ExecuteTime": {
     "end_time": "2018-02-23T16:42:28.955222Z",
     "start_time": "2018-02-23T16:42:27.595971Z"
    },
    "scrolled": true
   },
   "outputs": [
    {
     "data": {
      "image/png": "[encoded data removed]",
      "text/plain": [
       "<matplotlib.figure.Figure at 0x12a29fe80>"
      ]
     },
     "metadata": {},
     "output_type": "display_data"
    }
   ],
   "source": [
    "# Sparse matrix of tags\n",
    "plt.spy(termtag_df, aspect='auto', markersize=.5, c='r')\n",
    "plt.title(\"Sparse Matrix\");"
   ]
  },
  {
   "cell_type": "code",
   "execution_count": 20,
   "metadata": {
    "ExecuteTime": {
     "end_time": "2018-02-23T16:42:31.225844Z",
     "start_time": "2018-02-23T16:42:28.956744Z"
    }
   },
   "outputs": [
    {
     "name": "stdout",
     "output_type": "stream",
     "text": [
      "other                             43194\n",
      "rock                              30172\n",
      "electronic                        28484\n",
      "pop                               24891\n",
      "hiphop                            17660\n",
      "jazz                              16640\n",
      "punk                              16149\n",
      "funk                              15978\n",
      "alternative                       15298\n",
      "metal                             10246\n",
      "folk                               9894\n",
      "country                            8352\n",
      "reggae                             7161\n",
      "tag_classic pop and rock           1073\n",
      "tag_american                       1027\n",
      "tag_uk                             1013\n",
      "tag_british                         975\n",
      "tag_rock and indie                  920\n",
      "tag_rock                            843\n",
      "tag_english                         670\n",
      "tag_punk                            636\n",
      "tag_folk                            603\n",
      "tag_electronic                      413\n",
      "tag_german                          387\n",
      "tag_pop                             384\n",
      "tag_usa                             370\n",
      "tag_hip hop rnb and dance hall      323\n",
      "tag_dance and electronica           275\n",
      "tag_metal                           270\n",
      "tag_french                          245\n",
      "tag_pop and chart                   240\n",
      "tag_european                        232\n",
      "tag_alternative rock                220\n",
      "tag_production music                216\n",
      "tag_england                         212\n",
      "tag_jazz                            203\n",
      "tag_finnish                         183\n",
      "tag_progressive rock                166\n",
      "tag_hip hop                         152\n",
      "tag_jazz and blues                  149\n",
      "tag_classical                       146\n",
      "tag_indie rock                      138\n",
      "tag_swedish                         136\n",
      "tag_canadian                        132\n",
      "tag_hip-hop                         132\n",
      "tag_italian                         124\n",
      "tag_country                         124\n",
      "tag_alternative                     120\n",
      "tag_electronica                     115\n",
      "tag_hard rock                       114\n",
      "dtype: int64\n",
      "Row duplicates: 0\n"
     ]
    }
   ],
   "source": [
    "print(termtag_df.sum().sort_values(ascending=False).head(50))\n",
    "\n",
    "# Confirm duplicates\n",
    "termtag_df.reset_index(inplace=True)\n",
    "print(\"Row duplicates:\", termtag_df.duplicated(subset=['artist_id']).sum())"
   ]
  },
  {
   "cell_type": "markdown",
   "metadata": {},
   "source": [
    "### <a id=\"B\"></a>Track Metadata & Song Metadata"
   ]
  },
  {
   "cell_type": "code",
   "execution_count": 22,
   "metadata": {
    "ExecuteTime": {
     "end_time": "2018-02-23T16:43:46.065219Z",
     "start_time": "2018-02-23T16:43:42.802969Z"
    }
   },
   "outputs": [
    {
     "name": "stdout",
     "output_type": "stream",
     "text": [
      "track_id              0\n",
      "title                 0\n",
      "song_id               0\n",
      "release               0\n",
      "artist_id_1           0\n",
      "artist_mbid_1         0\n",
      "artist_name_1         0\n",
      "duration              0\n",
      "artist_familiarity    0\n",
      "artist_hotttnesss     0\n",
      "year                  0\n",
      "artist_latitude       0\n",
      "artist_longitude      0\n",
      "artist_mbid_2         0\n",
      "song_hotttnesss       0\n",
      "dtype: int64\n"
     ]
    }
   ],
   "source": [
    "metadata_df = pd.merge(track_metadata_df, song_metadata_hdf5_df, on='song_id',\n",
    "                       how='outer', suffixes=('_1', '_2'))\n",
    "\n",
    "metadata_df.drop(['artist_id_2', 'artist_name_2'],\n",
    "                  axis=1, inplace=True)\n",
    "\n",
    "metadata_df.fillna('N/A', inplace=True)\n",
    "print(metadata_df.isnull().sum())"
   ]
  },
  {
   "cell_type": "code",
   "execution_count": 23,
   "metadata": {
    "ExecuteTime": {
     "end_time": "2018-02-23T16:43:47.027420Z",
     "start_time": "2018-02-23T16:43:47.009110Z"
    }
   },
   "outputs": [
    {
     "data": {
      "text/html": [
       "<div>\n",
       "<style scoped>\n",
       "    .dataframe tbody tr th:only-of-type {\n",
       "        vertical-align: middle;\n",
       "    }\n",
       "\n",
       "    .dataframe tbody tr th {\n",
       "        vertical-align: top;\n",
       "    }\n",
       "\n",
       "    .dataframe thead th {\n",
       "        text-align: right;\n",
       "    }\n",
       "</style>\n",
       "<table border=\"1\" class=\"dataframe\">\n",
       "  <thead>\n",
       "    <tr style=\"text-align: right;\">\n",
       "      <th></th>\n",
       "      <th>track_id</th>\n",
       "      <th>title</th>\n",
       "      <th>song_id</th>\n",
       "      <th>release</th>\n",
       "      <th>artist_id_1</th>\n",
       "      <th>artist_mbid_1</th>\n",
       "      <th>artist_name_1</th>\n",
       "      <th>duration</th>\n",
       "      <th>artist_familiarity</th>\n",
       "      <th>artist_hotttnesss</th>\n",
       "      <th>year</th>\n",
       "      <th>artist_latitude</th>\n",
       "      <th>artist_longitude</th>\n",
       "      <th>artist_mbid_2</th>\n",
       "      <th>song_hotttnesss</th>\n",
       "    </tr>\n",
       "  </thead>\n",
       "  <tbody>\n",
       "    <tr>\n",
       "      <th>0</th>\n",
       "      <td>TRMMMYQ128F932D901</td>\n",
       "      <td>Silent Night</td>\n",
       "      <td>SOQMMHC12AB0180CB8</td>\n",
       "      <td>Monster Ballads X-Mas</td>\n",
       "      <td>ARYZTJS1187B98C555</td>\n",
       "      <td>357ff05d-848a-44cf-b608-cb34b5701ae5</td>\n",
       "      <td>Faster Pussy cat</td>\n",
       "      <td>252.05506</td>\n",
       "      <td>0.64982</td>\n",
       "      <td>0.39403</td>\n",
       "      <td>2003</td>\n",
       "      <td>-9999.0</td>\n",
       "      <td>-9999.0</td>\n",
       "      <td>357ff05d-848a-44cf-b608-cb34b5701ae5</td>\n",
       "      <td>0.54290</td>\n",
       "    </tr>\n",
       "    <tr>\n",
       "      <th>1</th>\n",
       "      <td>TRMMMKD128F425225D</td>\n",
       "      <td>Tanssi vaan</td>\n",
       "      <td>SOVFVAK12A8C1350D9</td>\n",
       "      <td>Karkuteillä</td>\n",
       "      <td>ARMVN3U1187FB3A1EB</td>\n",
       "      <td>8d7ef530-a6fd-4f8f-b2e2-74aec765e0f9</td>\n",
       "      <td>Karkkiautomaatti</td>\n",
       "      <td>156.55138</td>\n",
       "      <td>0.43960</td>\n",
       "      <td>0.35699</td>\n",
       "      <td>1995</td>\n",
       "      <td>-9999.0</td>\n",
       "      <td>-9999.0</td>\n",
       "      <td>8d7ef530-a6fd-4f8f-b2e2-74aec765e0f9</td>\n",
       "      <td>0.29988</td>\n",
       "    </tr>\n",
       "  </tbody>\n",
       "</table>\n",
       "</div>"
      ],
      "text/plain": [
       "             track_id         title             song_id  \\\n",
       "0  TRMMMYQ128F932D901  Silent Night  SOQMMHC12AB0180CB8   \n",
       "1  TRMMMKD128F425225D   Tanssi vaan  SOVFVAK12A8C1350D9   \n",
       "\n",
       "                 release         artist_id_1  \\\n",
       "0  Monster Ballads X-Mas  ARYZTJS1187B98C555   \n",
       "1            Karkuteillä  ARMVN3U1187FB3A1EB   \n",
       "\n",
       "                          artist_mbid_1     artist_name_1   duration  \\\n",
       "0  357ff05d-848a-44cf-b608-cb34b5701ae5  Faster Pussy cat  252.05506   \n",
       "1  8d7ef530-a6fd-4f8f-b2e2-74aec765e0f9  Karkkiautomaatti  156.55138   \n",
       "\n",
       "   artist_familiarity  artist_hotttnesss  year  artist_latitude  \\\n",
       "0             0.64982            0.39403  2003          -9999.0   \n",
       "1             0.43960            0.35699  1995          -9999.0   \n",
       "\n",
       "   artist_longitude                         artist_mbid_2  song_hotttnesss  \n",
       "0           -9999.0  357ff05d-848a-44cf-b608-cb34b5701ae5          0.54290  \n",
       "1           -9999.0  8d7ef530-a6fd-4f8f-b2e2-74aec765e0f9          0.29988  "
      ]
     },
     "execution_count": 23,
     "metadata": {},
     "output_type": "execute_result"
    }
   ],
   "source": [
    "metadata_df.head(2)"
   ]
  },
  {
   "cell_type": "code",
   "execution_count": 24,
   "metadata": {
    "ExecuteTime": {
     "end_time": "2018-02-23T16:43:49.766421Z",
     "start_time": "2018-02-23T16:43:47.945118Z"
    }
   },
   "outputs": [
    {
     "name": "stdout",
     "output_type": "stream",
     "text": [
      "Row duplicates:  2928\n"
     ]
    },
    {
     "data": {
      "text/html": [
       "<div>\n",
       "<style scoped>\n",
       "    .dataframe tbody tr th:only-of-type {\n",
       "        vertical-align: middle;\n",
       "    }\n",
       "\n",
       "    .dataframe tbody tr th {\n",
       "        vertical-align: top;\n",
       "    }\n",
       "\n",
       "    .dataframe thead th {\n",
       "        text-align: right;\n",
       "    }\n",
       "</style>\n",
       "<table border=\"1\" class=\"dataframe\">\n",
       "  <thead>\n",
       "    <tr style=\"text-align: right;\">\n",
       "      <th></th>\n",
       "      <th>track_id</th>\n",
       "      <th>title</th>\n",
       "      <th>song_id</th>\n",
       "      <th>release</th>\n",
       "      <th>artist_id_1</th>\n",
       "      <th>artist_mbid_1</th>\n",
       "      <th>artist_name_1</th>\n",
       "      <th>duration</th>\n",
       "      <th>artist_familiarity</th>\n",
       "      <th>artist_hotttnesss</th>\n",
       "      <th>year</th>\n",
       "      <th>artist_latitude</th>\n",
       "      <th>artist_longitude</th>\n",
       "      <th>artist_mbid_2</th>\n",
       "      <th>song_hotttnesss</th>\n",
       "    </tr>\n",
       "  </thead>\n",
       "  <tbody>\n",
       "    <tr>\n",
       "      <th>254947</th>\n",
       "      <td>TRBUUAF128F92CE5A3</td>\n",
       "      <td>Man In The Box</td>\n",
       "      <td>SODTUOO12A8C14289A</td>\n",
       "      <td>Heavy Metal Palace Vol. 1</td>\n",
       "      <td>ARSW5F51187FB4CFC9</td>\n",
       "      <td>4bd95eea-b9f6-4d70-a36c-cfea77431553</td>\n",
       "      <td>Alice In Chains</td>\n",
       "      <td>284.76036</td>\n",
       "      <td>0.79634</td>\n",
       "      <td>0.57025</td>\n",
       "      <td>1990</td>\n",
       "      <td>-9999.00000</td>\n",
       "      <td>-9999.00000</td>\n",
       "      <td>4bd95eea-b9f6-4d70-a36c-cfea77431553</td>\n",
       "      <td>1.0</td>\n",
       "    </tr>\n",
       "    <tr>\n",
       "      <th>10781</th>\n",
       "      <td>TRAWBHE12903CBC4CB</td>\n",
       "      <td>Nothin' On You [feat. Bruno Mars] (Album Version)</td>\n",
       "      <td>SOULTKQ12AB018A183</td>\n",
       "      <td>B.o.B Presents: The Adventures of Bobby Ray</td>\n",
       "      <td>ARKQQZA12086C116FC</td>\n",
       "      <td>94c338ff-1985-4429-9dc8-997b61bb5932</td>\n",
       "      <td>B.o.B</td>\n",
       "      <td>269.63546</td>\n",
       "      <td>0.76822</td>\n",
       "      <td>0.71253</td>\n",
       "      <td>2010</td>\n",
       "      <td>38.89910</td>\n",
       "      <td>-77.02900</td>\n",
       "      <td>94c338ff-1985-4429-9dc8-997b61bb5932</td>\n",
       "      <td>1.0</td>\n",
       "    </tr>\n",
       "    <tr>\n",
       "      <th>602211</th>\n",
       "      <td>TRSHKBR128F4281C97</td>\n",
       "      <td>Last Nite</td>\n",
       "      <td>SOQFXDQ12AF72AD0EE</td>\n",
       "      <td>Is This It</td>\n",
       "      <td>AR9O98A1187FB39621</td>\n",
       "      <td>f181961b-20f7-459e-89de-920ef03c7ed0</td>\n",
       "      <td>The Strokes</td>\n",
       "      <td>197.53751</td>\n",
       "      <td>0.80704</td>\n",
       "      <td>0.59174</td>\n",
       "      <td>2001</td>\n",
       "      <td>40.71455</td>\n",
       "      <td>-74.00712</td>\n",
       "      <td>f181961b-20f7-459e-89de-920ef03c7ed0</td>\n",
       "      <td>1.0</td>\n",
       "    </tr>\n",
       "    <tr>\n",
       "      <th>10780</th>\n",
       "      <td>TRMFRFX12903CD6E4C</td>\n",
       "      <td>Nothin' On You [feat. Bruno Mars] (Album Version)</td>\n",
       "      <td>SOULTKQ12AB018A183</td>\n",
       "      <td>Nothin' On You [feat. Bruno Mars]</td>\n",
       "      <td>ARKQQZA12086C116FC</td>\n",
       "      <td>94c338ff-1985-4429-9dc8-997b61bb5932</td>\n",
       "      <td>B.o.B</td>\n",
       "      <td>269.63546</td>\n",
       "      <td>0.76822</td>\n",
       "      <td>0.73887</td>\n",
       "      <td>0</td>\n",
       "      <td>38.89910</td>\n",
       "      <td>-77.02900</td>\n",
       "      <td>94c338ff-1985-4429-9dc8-997b61bb5932</td>\n",
       "      <td>1.0</td>\n",
       "    </tr>\n",
       "  </tbody>\n",
       "</table>\n",
       "</div>"
      ],
      "text/plain": [
       "                  track_id                                              title  \\\n",
       "254947  TRBUUAF128F92CE5A3                                     Man In The Box   \n",
       "10781   TRAWBHE12903CBC4CB  Nothin' On You [feat. Bruno Mars] (Album Version)   \n",
       "602211  TRSHKBR128F4281C97                                          Last Nite   \n",
       "10780   TRMFRFX12903CD6E4C  Nothin' On You [feat. Bruno Mars] (Album Version)   \n",
       "\n",
       "                   song_id                                      release  \\\n",
       "254947  SODTUOO12A8C14289A                    Heavy Metal Palace Vol. 1   \n",
       "10781   SOULTKQ12AB018A183  B.o.B Presents: The Adventures of Bobby Ray   \n",
       "602211  SOQFXDQ12AF72AD0EE                                   Is This It   \n",
       "10780   SOULTKQ12AB018A183            Nothin' On You [feat. Bruno Mars]   \n",
       "\n",
       "               artist_id_1                         artist_mbid_1  \\\n",
       "254947  ARSW5F51187FB4CFC9  4bd95eea-b9f6-4d70-a36c-cfea77431553   \n",
       "10781   ARKQQZA12086C116FC  94c338ff-1985-4429-9dc8-997b61bb5932   \n",
       "602211  AR9O98A1187FB39621  f181961b-20f7-459e-89de-920ef03c7ed0   \n",
       "10780   ARKQQZA12086C116FC  94c338ff-1985-4429-9dc8-997b61bb5932   \n",
       "\n",
       "          artist_name_1   duration  artist_familiarity  artist_hotttnesss  \\\n",
       "254947  Alice In Chains  284.76036             0.79634            0.57025   \n",
       "10781             B.o.B  269.63546             0.76822            0.71253   \n",
       "602211      The Strokes  197.53751             0.80704            0.59174   \n",
       "10780             B.o.B  269.63546             0.76822            0.73887   \n",
       "\n",
       "        year  artist_latitude  artist_longitude  \\\n",
       "254947  1990      -9999.00000       -9999.00000   \n",
       "10781   2010         38.89910         -77.02900   \n",
       "602211  2001         40.71455         -74.00712   \n",
       "10780      0         38.89910         -77.02900   \n",
       "\n",
       "                               artist_mbid_2  song_hotttnesss  \n",
       "254947  4bd95eea-b9f6-4d70-a36c-cfea77431553              1.0  \n",
       "10781   94c338ff-1985-4429-9dc8-997b61bb5932              1.0  \n",
       "602211  f181961b-20f7-459e-89de-920ef03c7ed0              1.0  \n",
       "10780   94c338ff-1985-4429-9dc8-997b61bb5932              1.0  "
      ]
     },
     "execution_count": 24,
     "metadata": {},
     "output_type": "execute_result"
    }
   ],
   "source": [
    "# Explore duplicates\n",
    "print(\"Row duplicates: \", metadata_df.duplicated(subset=['song_id']).sum())\n",
    "metadata_df.sort_values(['song_hotttnesss'], inplace=True, ascending=False)\n",
    "metadata_df.loc[metadata_df.duplicated(subset=['song_id'], keep=False)].head(4)"
   ]
  },
  {
   "cell_type": "code",
   "execution_count": 25,
   "metadata": {
    "ExecuteTime": {
     "end_time": "2018-02-23T16:43:53.573849Z",
     "start_time": "2018-02-23T16:43:51.543548Z"
    }
   },
   "outputs": [
    {
     "name": "stdout",
     "output_type": "stream",
     "text": [
      "Row duplicates:  0\n"
     ]
    }
   ],
   "source": [
    "# Get rid of the duplicate entries, capturing the song hotttnesss score if it exists\n",
    "metadata_df.drop_duplicates(subset=['song_id', 'track_id'], keep=False, inplace=True)\n",
    "print(\"Row duplicates: \", metadata_df.duplicated(subset=['song_id']).sum())"
   ]
  },
  {
   "cell_type": "code",
   "execution_count": 26,
   "metadata": {
    "ExecuteTime": {
     "end_time": "2018-02-23T16:43:56.434473Z",
     "start_time": "2018-02-23T16:43:55.398518Z"
    }
   },
   "outputs": [
    {
     "name": "stdout",
     "output_type": "stream",
     "text": [
      "<class 'pandas.core.frame.DataFrame'>\n",
      "Int64Index: 998160 entries, 69811 to 500992\n",
      "Data columns (total 15 columns):\n",
      "track_id              998160 non-null object\n",
      "title                 998160 non-null object\n",
      "song_id               998160 non-null object\n",
      "release               998160 non-null object\n",
      "artist_id_1           998160 non-null object\n",
      "artist_mbid_1         998160 non-null object\n",
      "artist_name_1         998160 non-null object\n",
      "duration              998160 non-null float64\n",
      "artist_familiarity    998160 non-null float64\n",
      "artist_hotttnesss     998160 non-null float64\n",
      "year                  998160 non-null int64\n",
      "artist_latitude       998160 non-null float64\n",
      "artist_longitude      998160 non-null float64\n",
      "artist_mbid_2         998160 non-null object\n",
      "song_hotttnesss       998160 non-null float64\n",
      "dtypes: float64(6), int64(1), object(8)\n",
      "memory usage: 121.8+ MB\n"
     ]
    }
   ],
   "source": [
    "metadata_df.info()"
   ]
  },
  {
   "cell_type": "markdown",
   "metadata": {},
   "source": [
    "### <a id=\"C\"></a> Metadata & Track Analysis"
   ]
  },
  {
   "cell_type": "code",
   "execution_count": 27,
   "metadata": {
    "ExecuteTime": {
     "end_time": "2018-02-23T16:44:05.343744Z",
     "start_time": "2018-02-23T16:44:00.310203Z"
    }
   },
   "outputs": [
    {
     "name": "stdout",
     "output_type": "stream",
     "text": [
      "<class 'pandas.core.frame.DataFrame'>\n",
      "Int64Index: 998160 entries, 0 to 998159\n",
      "Data columns (total 24 columns):\n",
      "track_id                     998160 non-null object\n",
      "title                        998160 non-null object\n",
      "song_id                      998160 non-null object\n",
      "release                      998160 non-null object\n",
      "artist_id_1                  998160 non-null object\n",
      "artist_mbid_1                998160 non-null object\n",
      "artist_name_1                998160 non-null object\n",
      "duration_1                   998160 non-null float64\n",
      "artist_familiarity           998160 non-null float64\n",
      "artist_hotttnesss            998160 non-null float64\n",
      "year                         998160 non-null float64\n",
      "artist_latitude              998160 non-null float64\n",
      "artist_longitude             998160 non-null float64\n",
      "artist_mbid_2                998160 non-null object\n",
      "song_hotttnesss              998160 non-null float64\n",
      "end_of_fade_in               998160 non-null float64\n",
      "key                          998160 non-null int64\n",
      "loudness                     998160 non-null float64\n",
      "mode                         998160 non-null int64\n",
      "mode_confidence              998160 non-null float64\n",
      "start_of_fade_out            998160 non-null float64\n",
      "tempo                        998160 non-null float64\n",
      "time_signature               998160 non-null int64\n",
      "time_signature_confidence    998160 non-null float64\n",
      "dtypes: float64(13), int64(3), object(8)\n",
      "memory usage: 190.4+ MB\n"
     ]
    }
   ],
   "source": [
    "song_df = pd.merge(metadata_df, track_analysis_df, on='track_id',\n",
    "                       how='outer', suffixes=('_1', '_2'))\n",
    "\n",
    "song_df.drop(['duration_2'], axis=1, inplace=True)\n",
    "song_df.dropna(subset=['song_id'], inplace=True)\n",
    "song_df.info()"
   ]
  },
  {
   "cell_type": "code",
   "execution_count": 28,
   "metadata": {
    "ExecuteTime": {
     "end_time": "2018-02-23T16:44:06.577842Z",
     "start_time": "2018-02-23T16:44:05.345170Z"
    }
   },
   "outputs": [
    {
     "name": "stdout",
     "output_type": "stream",
     "text": [
      "Row duplicates:  0\n",
      "Row duplicates:  0\n"
     ]
    }
   ],
   "source": [
    "print(\"Row duplicates: \", song_df.duplicated(subset=['song_id']).sum())\n",
    "print(\"Row duplicates: \", song_df.duplicated(subset=['track_id']).sum())"
   ]
  },
  {
   "cell_type": "markdown",
   "metadata": {},
   "source": [
    "### <a id=\"D\"></a> Final Aggregation"
   ]
  },
  {
   "cell_type": "code",
   "execution_count": 29,
   "metadata": {
    "ExecuteTime": {
     "end_time": "2018-02-23T16:46:29.256554Z",
     "start_time": "2018-02-23T16:44:17.229637Z"
    },
    "collapsed": true
   },
   "outputs": [],
   "source": [
    "df = pd.merge(song_df, termtag_df, left_on='artist_id_1', right_on='artist_id',\n",
    "                       how='left', suffixes=('_1', '_2'))\n",
    "\n",
    "df.dropna(subset=['artist_id'], inplace=True)\n",
    "df.info()"
   ]
  },
  {
   "cell_type": "markdown",
   "metadata": {},
   "source": [
    "### <a id=7></a> Downcasting"
   ]
  },
  {
   "cell_type": "code",
   "execution_count": 31,
   "metadata": {
    "ExecuteTime": {
     "end_time": "2018-02-23T16:52:16.579641Z",
     "start_time": "2018-02-23T16:52:16.350718Z"
    }
   },
   "outputs": [
    {
     "name": "stdout",
     "output_type": "stream",
     "text": [
      "30.3481 MB\n",
      "10.4322 MB\n"
     ]
    },
    {
     "data": {
      "text/html": [
       "<div>\n",
       "<style scoped>\n",
       "    .dataframe tbody tr th:only-of-type {\n",
       "        vertical-align: middle;\n",
       "    }\n",
       "\n",
       "    .dataframe tbody tr th {\n",
       "        vertical-align: top;\n",
       "    }\n",
       "\n",
       "    .dataframe thead th {\n",
       "        text-align: right;\n",
       "    }\n",
       "</style>\n",
       "<table border=\"1\" class=\"dataframe\">\n",
       "  <thead>\n",
       "    <tr style=\"text-align: right;\">\n",
       "      <th></th>\n",
       "      <th>before</th>\n",
       "      <th>after</th>\n",
       "    </tr>\n",
       "  </thead>\n",
       "  <tbody>\n",
       "    <tr>\n",
       "      <th>uint8</th>\n",
       "      <td>NaN</td>\n",
       "      <td>3.0</td>\n",
       "    </tr>\n",
       "    <tr>\n",
       "      <th>int64</th>\n",
       "      <td>3.0</td>\n",
       "      <td>NaN</td>\n",
       "    </tr>\n",
       "  </tbody>\n",
       "</table>\n",
       "</div>"
      ],
      "text/plain": [
       "       before  after\n",
       "uint8     NaN    3.0\n",
       "int64     3.0    NaN"
      ]
     },
     "execution_count": 31,
     "metadata": {},
     "output_type": "execute_result"
    }
   ],
   "source": [
    "# Split, apply, combine method for optimizing dataframe\n",
    "# Calculating memory usage function\n",
    "def mem_usage(pandas_obj):\n",
    "    if isinstance(pandas_obj,pd.DataFrame):\n",
    "        usage_b = pandas_obj.memory_usage(deep=True).sum()\n",
    "    else: # we assume if not a df it's a series\n",
    "        usage_b = pandas_obj.memory_usage(deep=True)\n",
    "    usage_mb = usage_b / 1024 ** 2 # convert bytes to megabytes\n",
    "    return \"{:03.4f} MB\".format(usage_mb)\n",
    "\n",
    "\n",
    "# Downcast ints\n",
    "df_int = df.select_dtypes(include=['int'])\n",
    "converted_int = df_int.apply(pd.to_numeric, downcast='unsigned')\n",
    "\n",
    "print(mem_usage(df_int))\n",
    "print(mem_usage(converted_int))\n",
    "\n",
    "compare_ints = pd.concat([df_int.dtypes,converted_int.dtypes],axis=1)\n",
    "compare_ints.columns = ['before','after']\n",
    "compare_ints.apply(pd.Series.value_counts)\n",
    "\n",
    "#df_int.info(memory_usage='deep')\n",
    "#converted_int.info(memory_usage='deep')"
   ]
  },
  {
   "cell_type": "code",
   "execution_count": 32,
   "metadata": {
    "ExecuteTime": {
     "end_time": "2018-02-23T16:54:02.833998Z",
     "start_time": "2018-02-23T16:52:17.095732Z"
    }
   },
   "outputs": [
    {
     "name": "stdout",
     "output_type": "stream",
     "text": [
      "17761.2516 MB\n",
      "2307.4074 MB\n"
     ]
    },
    {
     "data": {
      "text/html": [
       "<div>\n",
       "<style scoped>\n",
       "    .dataframe tbody tr th:only-of-type {\n",
       "        vertical-align: middle;\n",
       "    }\n",
       "\n",
       "    .dataframe tbody tr th {\n",
       "        vertical-align: top;\n",
       "    }\n",
       "\n",
       "    .dataframe thead th {\n",
       "        text-align: right;\n",
       "    }\n",
       "</style>\n",
       "<table border=\"1\" class=\"dataframe\">\n",
       "  <thead>\n",
       "    <tr style=\"text-align: right;\">\n",
       "      <th></th>\n",
       "      <th>before</th>\n",
       "      <th>after</th>\n",
       "    </tr>\n",
       "  </thead>\n",
       "  <tbody>\n",
       "    <tr>\n",
       "      <th>int8</th>\n",
       "      <td>NaN</td>\n",
       "      <td>2327</td>\n",
       "    </tr>\n",
       "    <tr>\n",
       "      <th>int16</th>\n",
       "      <td>NaN</td>\n",
       "      <td>1</td>\n",
       "    </tr>\n",
       "    <tr>\n",
       "      <th>float64</th>\n",
       "      <td>2340.0</td>\n",
       "      <td>12</td>\n",
       "    </tr>\n",
       "  </tbody>\n",
       "</table>\n",
       "</div>"
      ],
      "text/plain": [
       "         before  after\n",
       "int8        NaN   2327\n",
       "int16       NaN      1\n",
       "float64  2340.0     12"
      ]
     },
     "execution_count": 32,
     "metadata": {},
     "output_type": "execute_result"
    }
   ],
   "source": [
    "# Downcast floats to ints\n",
    "df_float = df.select_dtypes(include=['float'])\n",
    "converted_float = df_float.apply(pd.to_numeric, downcast='signed')\n",
    "\n",
    "print(mem_usage(df_float))\n",
    "print(mem_usage(converted_float))\n",
    "\n",
    "compare_floats = pd.concat([df_float.dtypes, converted_float.dtypes],axis=1)\n",
    "compare_floats.columns = ['before','after']\n",
    "compare_floats.apply(pd.Series.value_counts)"
   ]
  },
  {
   "cell_type": "code",
   "execution_count": 33,
   "metadata": {
    "ExecuteTime": {
     "end_time": "2018-02-23T16:54:23.481650Z",
     "start_time": "2018-02-23T16:54:02.835902Z"
    }
   },
   "outputs": [
    {
     "name": "stdout",
     "output_type": "stream",
     "text": [
      "679.9290 MB\n",
      "288.0169 MB\n"
     ]
    },
    {
     "data": {
      "text/html": [
       "<div>\n",
       "<style scoped>\n",
       "    .dataframe tbody tr th:only-of-type {\n",
       "        vertical-align: middle;\n",
       "    }\n",
       "\n",
       "    .dataframe tbody tr th {\n",
       "        vertical-align: top;\n",
       "    }\n",
       "\n",
       "    .dataframe thead th {\n",
       "        text-align: right;\n",
       "    }\n",
       "</style>\n",
       "<table border=\"1\" class=\"dataframe\">\n",
       "  <thead>\n",
       "    <tr style=\"text-align: right;\">\n",
       "      <th></th>\n",
       "      <th>before</th>\n",
       "      <th>after</th>\n",
       "    </tr>\n",
       "  </thead>\n",
       "  <tbody>\n",
       "    <tr>\n",
       "      <th>object</th>\n",
       "      <td>9.0</td>\n",
       "      <td>3</td>\n",
       "    </tr>\n",
       "    <tr>\n",
       "      <th>category</th>\n",
       "      <td>NaN</td>\n",
       "      <td>2</td>\n",
       "    </tr>\n",
       "    <tr>\n",
       "      <th>category</th>\n",
       "      <td>NaN</td>\n",
       "      <td>2</td>\n",
       "    </tr>\n",
       "    <tr>\n",
       "      <th>category</th>\n",
       "      <td>NaN</td>\n",
       "      <td>1</td>\n",
       "    </tr>\n",
       "    <tr>\n",
       "      <th>category</th>\n",
       "      <td>NaN</td>\n",
       "      <td>1</td>\n",
       "    </tr>\n",
       "  </tbody>\n",
       "</table>\n",
       "</div>"
      ],
      "text/plain": [
       "          before  after\n",
       "object       9.0      3\n",
       "category     NaN      2\n",
       "category     NaN      2\n",
       "category     NaN      1\n",
       "category     NaN      1"
      ]
     },
     "execution_count": 33,
     "metadata": {},
     "output_type": "execute_result"
    }
   ],
   "source": [
    "# Downcast objects to categoricals\n",
    "df_obj = df.select_dtypes(include=['object']).copy()\n",
    "df_obj.describe()\n",
    "\n",
    "converted_obj = pd.DataFrame()\n",
    "\n",
    "for col in df_obj.columns:\n",
    "    num_unique_values = len(df_obj[col].unique())\n",
    "    num_total_values = len(df_obj[col])\n",
    "    if num_unique_values / num_total_values < 0.5:\n",
    "        converted_obj.loc[:,col] = df_obj[col].astype('category')\n",
    "    else:\n",
    "        converted_obj.loc[:,col] = df_obj[col]\n",
    "        \n",
    "print(mem_usage(df_obj))\n",
    "print(mem_usage(converted_obj))\n",
    "\n",
    "compare_obj = pd.concat([df_obj.dtypes,converted_obj.dtypes],axis=1)\n",
    "compare_obj.columns = ['before','after']\n",
    "compare_obj.apply(pd.Series.value_counts)"
   ]
  },
  {
   "cell_type": "code",
   "execution_count": 34,
   "metadata": {
    "ExecuteTime": {
     "end_time": "2018-02-23T16:55:26.731095Z",
     "start_time": "2018-02-23T16:54:23.483382Z"
    }
   },
   "outputs": [
    {
     "name": "stdout",
     "output_type": "stream",
     "text": [
      "18456.3547 MB\n",
      "2590.6824 MB\n"
     ]
    }
   ],
   "source": [
    "# Combining the converted dataframe types\n",
    "optimized_df = pd.DataFrame()\n",
    "\n",
    "optimized_df[converted_obj.columns] = converted_obj\n",
    "optimized_df[converted_int.columns] = converted_int\n",
    "optimized_df[converted_float.columns] = converted_float\n",
    "\n",
    "print(mem_usage(df))\n",
    "print(mem_usage(optimized_df))"
   ]
  },
  {
   "cell_type": "code",
   "execution_count": 35,
   "metadata": {
    "ExecuteTime": {
     "end_time": "2018-02-23T16:55:32.982755Z",
     "start_time": "2018-02-23T16:55:26.732770Z"
    }
   },
   "outputs": [
    {
     "name": "stdout",
     "output_type": "stream",
     "text": [
      "Index(['track_id', 'title', 'song_id', 'artist_name_1', 'artist_id', 'key',\n",
      "       'mode', 'time_signature', 'duration_1', 'artist_familiarity',\n",
      "       'artist_hotttnesss', 'year', 'artist_latitude', 'artist_longitude',\n",
      "       'song_hotttnesss', 'end_of_fade_in', 'loudness', 'mode_confidence',\n",
      "       'start_of_fade_out', 'tempo', 'time_signature_confidence',\n",
      "       'alternative', 'country', 'electronic', 'folk', 'funk', 'hiphop',\n",
      "       'jazz', 'metal', 'other'],\n",
      "      dtype='object')\n"
     ]
    }
   ],
   "source": [
    "optimized_df.drop(['artist_id_1', 'release', 'artist_mbid_1', 'artist_mbid_2'],\n",
    "                  axis=1, inplace=True)\n",
    "print(optimized_df.columns[:30])"
   ]
  },
  {
   "cell_type": "code",
   "execution_count": 36,
   "metadata": {
    "ExecuteTime": {
     "end_time": "2018-02-23T16:55:36.957473Z",
     "start_time": "2018-02-23T16:55:32.984425Z"
    },
    "collapsed": true
   },
   "outputs": [],
   "source": [
    "model_df = optimized_df.rename(columns={'artist_name_1': 'a_',\n",
    "                                        'artist_id': 'a_id',\n",
    "                                        'artist_familiarity': 'a_fam',\n",
    "                                        'artist_latitude': 'a_lat',\n",
    "                                        'artist_longitude': 'a_lon',\n",
    "                                        'artist_hotttnesss': 'a_hot',\n",
    "                                        'song_hotttnesss': 's_hot',\n",
    "                                        'title': 's_',\n",
    "                                        'song_id': 's_id',\n",
    "                                        'key': 's_key',\n",
    "                                        'mode': 's_mode',\n",
    "                                        'year': 's_year',\n",
    "                                        'duration_1': 's_dur',\n",
    "                                        'end_of_fade_in': 's_fade_in',\n",
    "                                        'start_of_fade_out': 's_fade_out',\n",
    "                                        'tempo': 's_tempo',\n",
    "                                        'loudness': 's_loud',\n",
    "                                        'mode_confidence': 's_mode_conf',\n",
    "                                        'time_signature': 's_tsig',\n",
    "                                        'time_signature_confidence': 's_ts_conf',\n",
    "                                        'track_id': 'tr_id'\n",
    "                                       })"
   ]
  },
  {
   "cell_type": "code",
   "execution_count": 37,
   "metadata": {
    "ExecuteTime": {
     "end_time": "2018-02-23T16:55:36.962076Z",
     "start_time": "2018-02-23T16:55:36.959241Z"
    },
    "collapsed": true
   },
   "outputs": [],
   "source": [
    "#model_df.isnull().sum()"
   ]
  },
  {
   "cell_type": "markdown",
   "metadata": {},
   "source": [
    "### <a id=8></a> Pickling"
   ]
  },
  {
   "cell_type": "code",
   "execution_count": null,
   "metadata": {
    "ExecuteTime": {
     "end_time": "2018-02-23T16:29:06.299133Z",
     "start_time": "2018-02-23T16:27:41.582Z"
    },
    "collapsed": true
   },
   "outputs": [],
   "source": [
    "# Split into 2 DF's for pickle\n",
    "M1_df = model_df.iloc[:500000,].copy()\n",
    "M2_df = model_df.iloc[500000:,].copy()\n",
    "\n",
    "if not os.path.isdir('data/'):\n",
    "    os.makedirs('data/')\n",
    "M1_df.to_pickle(path = 'data/model1_df.pickle')\n",
    "M2_df.to_pickle(path = 'data/model2_df.pickle')"
   ]
  }
 ],
 "metadata": {
  "kernelspec": {
   "display_name": "Python 3",
   "language": "python",
   "name": "python3"
  },
  "language_info": {
   "codemirror_mode": {
    "name": "ipython",
    "version": 3
   },
   "file_extension": ".py",
   "mimetype": "text/x-python",
   "name": "python",
   "nbconvert_exporter": "python",
   "pygments_lexer": "ipython3",
   "version": "3.6.4"
  },
  "toc": {
   "nav_menu": {},
   "number_sections": true,
   "sideBar": true,
   "skip_h1_title": false,
   "title_cell": "Table of Contents",
   "title_sidebar": "Contents",
   "toc_cell": false,
   "toc_position": {},
   "toc_section_display": true,
   "toc_window_display": false
  }
 },
 "nbformat": 4,
 "nbformat_minor": 2
}
